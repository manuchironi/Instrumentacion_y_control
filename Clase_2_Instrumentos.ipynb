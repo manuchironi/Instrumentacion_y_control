{
 "cells": [
  {
   "cell_type": "markdown",
   "metadata": {},
   "source": [
    "En esta clase, la idea es crear una clase que abstraiga los comandos enviados tanto al osciloscopio como al generador de funciones."
   ]
  },
  {
   "cell_type": "code",
   "execution_count": 1,
   "metadata": {},
   "outputs": [],
   "source": [
    "import numpy as np\n",
    "import matplotlib.pyplot as plt\n",
    "import visa\n",
    "import pyvisa\n",
    "\n",
    "rm = visa.ResourceManager()\n",
    "    \n",
    "class Generador(pyvisa.resources.usb.USBInstrument):\n",
    "    def __init__(self,ID):\n",
    "        self=rm.open_resource(ID)\n",
    "        self.ID = ID\n",
    "         \n",
    "    def setFrequency(self,freq):\n",
    "        self.write(\"SOURce1:FREQuency:FIXed \"+str(freq))\n",
    "        \n",
    "    def setAmplitude(self,amp):\n",
    "        self.obj_visa.write(\"SOURce1:VOLTage:LEVel:IMMediate:AMPLitude \"+str(amp))\n",
    "        \n",
    "    def setWaveform(self):\n",
    "        self.obj_visa.write(\"SOURce1:AM:INTernal:FUNCtion SIN\")\n",
    "        "
   ]
  },
  {
   "cell_type": "code",
   "execution_count": 54,
   "metadata": {},
   "outputs": [],
   "source": [
    "import numpy as np\n",
    "import visa\n",
    "import matplotlib.pyplot as plt\n",
    "    \n",
    "class Generador():\n",
    "    def __init__(self,ID):\n",
    "        self.obj_visa=rm.open_resource(ID)\n",
    "        self.ID = ID\n",
    "         \n",
    "    def setFrequency(self,freq):\n",
    "        self.obj_visa.write(\"SOURce1:FREQuency:FIXed \"+str(freq))\n",
    "        \n",
    "    def setAmplitude(self,amp):\n",
    "        self.obj_visa.write(\"SOURce1:VOLTage:LEVel:IMMediate:AMPLitude \"+str(amp))\n",
    "        \n",
    "    def setWaveform(self,waveform ='Senoidal'):\n",
    "        switcher = {'Senoidal':\"SIN\",'Cuadrada':\"SQU\",'Pulso':\"PULS\"}\n",
    "        self.obj_visa.write(\"SOURce1:FUNCtion \"+switcher.get(waveform,'Senoidal'))\n",
    "\n",
    "    #def sweepe(init_freq,end_freq,cant_med,osciloscopio)\n",
    "        \n",
    "\n",
    "        \n",
    "class Osciloscopio():\n",
    "\n",
    "    def __init__(self,ID):\n",
    "        self.obj_visa=rm.open_resource(ID)\n",
    "        self.ID = ID\n",
    "        self.parameters = None\n",
    "        \n",
    "    def set_base_time(self,scale):\n",
    "        self.obj_visa.write(\"HORizontal:DELay:SCALe \"+str(scale))\n",
    "       # self.obj_visa.write('HORizontal:DELay:SCALe {}'.format(scale))\n",
    "            \n",
    "    def capturaPantalla(self):\n",
    "        if self.parameters is None:\n",
    "            YOFF_in_dl = float(self.obj_visa.query(\"WFMP:YOFF?\"))\n",
    "            YZERO_in_YUNits = float(self.obj_visa.query(\"WFMP:YZERO?\"))\n",
    "            YMUlt = float(self.obj_visa.query(\"WFMP:YMULT?\"))\n",
    "            self.parameters = (YOFF_in_dl,YZERO_in_YUNits,YMUlt)\n",
    "        (YOFF_in_dl , YZERO_in_YUNits , YMUlt) = self.parameters\n",
    "        curve_in_dl = np.array(self.obj_visa.query_ascii_values('CURV?'))#, datatype='b', is_big_endian=True))\n",
    "      #  curve_in_dl=np.zeros(10)\n",
    "        valores = ((curve_in_dl - YOFF_in_dl)*YMUlt)+YZERO_in_YUNits\n",
    "        intervalo = float(osci.obj_visa.query('WFMPre:XINcr?'))\n",
    "        tiempos = np.arange(len(valores))*intervalo\n",
    "        return tiempos, valores\n",
    "    \n",
    "def sweepe(generador, osciloscopio, init_freq = 10, end_freq = 10000, cant_med = 100):\n",
    "    \n",
    "    #Consulta OSciloscopio\n",
    "    osci.obj_visa.write('MEASUrement:IMMed:TYPE PK2pk')\n",
    "    valor = osci.obj_visa.query('MEASUREMENT:IMMed:VALue?')"
   ]
  },
  {
   "cell_type": "code",
   "execution_count": 55,
   "metadata": {},
   "outputs": [],
   "source": [
    "rm = visa.ResourceManager()\n",
    "ID=rm.list_resources()"
   ]
  },
  {
   "cell_type": "code",
   "execution_count": 56,
   "metadata": {},
   "outputs": [],
   "source": [
    "#genf = Generador(ID[0])\n",
    "osci = Osciloscopio(ID[1])"
   ]
  },
  {
   "cell_type": "code",
   "execution_count": 38,
   "metadata": {
    "collapsed": true
   },
   "outputs": [],
   "source": [
    "genf.setFrequency(30)\n",
    "genf.setAmplitude(0.6)\n",
    "genf.setWaveform()"
   ]
  },
  {
   "cell_type": "code",
   "execution_count": 58,
   "metadata": {},
   "outputs": [
    {
     "data": {
      "text/plain": [
       "(0.0, 0.0004998)"
      ]
     },
     "execution_count": 58,
     "metadata": {},
     "output_type": "execute_result"
    },
    {
     "data": {
      "image/png": "[encoded data removed]",
      "text/plain": [
       "<Figure size 432x288 with 1 Axes>"
      ]
     },
     "metadata": {
      "needs_background": "light"
     },
     "output_type": "display_data"
    }
   ],
   "source": [
    "osci.set_base_time(2.0E-6)\n",
    "tiempos, valores = osci.capturaPantalla()\n",
    "plt.plot(tiempos,valores)\n",
    "plt.grid(True)\n",
    "plt.xlim(tiempos[0],tiempos[-1])"
   ]
  },
  {
   "cell_type": "code",
   "execution_count": 60,
   "metadata": {},
   "outputs": [
    {
     "data": {
      "text/plain": [
       "(31, <StatusCode.success: 0>)"
      ]
     },
     "execution_count": 60,
     "metadata": {},
     "output_type": "execute_result"
    }
   ],
   "source": [
    "osci.obj_visa.write('HORizontal:DELay:SCALe 4.0E-9')"
   ]
  },
  {
   "cell_type": "code",
   "execution_count": 61,
   "metadata": {},
   "outputs": [
    {
     "data": {
      "text/plain": [
       "'5.0E-9\\n'"
      ]
     },
     "execution_count": 61,
     "metadata": {},
     "output_type": "execute_result"
    }
   ],
   "source": [
    "osci.obj_visa.query('HORizontal:DELay:SCALe?')"
   ]
  },
  {
   "cell_type": "code",
   "execution_count": 22,
   "metadata": {},
   "outputs": [
    {
     "data": {
      "text/plain": [
       "0.1"
      ]
     },
     "execution_count": 22,
     "metadata": {},
     "output_type": "execute_result"
    }
   ],
   "source": [
    "len(osci.capturaPantalla())*float(osci.obj_visa.query('WFMPre:XINcr?'))"
   ]
  },
  {
   "cell_type": "code",
   "execution_count": 72,
   "metadata": {
    "collapsed": true
   },
   "outputs": [],
   "source": []
  },
  {
   "cell_type": "code",
   "execution_count": 10,
   "metadata": {},
   "outputs": [
    {
     "data": {
      "text/plain": [
       "'1.5E0\\n'"
      ]
     },
     "execution_count": 10,
     "metadata": {},
     "output_type": "execute_result"
    }
   ],
   "source": [
    "osci.obj_visa.write('MEASUrement:IMMed:TYPE PK2pk')\n",
    "osci.obj_visa.query('MEASUREMENT:IMMed:VALue?')"
   ]
  },
  {
   "cell_type": "code",
   "execution_count": null,
   "metadata": {
    "collapsed": true
   },
   "outputs": [],
   "source": []
  },
  {
   "cell_type": "code",
   "execution_count": null,
   "metadata": {
    "collapsed": true
   },
   "outputs": [],
   "source": []
  }
 ],
 "metadata": {
  "kernelspec": {
   "display_name": "Python 3",
   "language": "python",
   "name": "python3"
  },
  "language_info": {
   "codemirror_mode": {
    "name": "ipython",
    "version": 3
   },
   "file_extension": ".py",
   "mimetype": "text/x-python",
   "name": "python",
   "nbconvert_exporter": "python",
   "pygments_lexer": "ipython3",
   "version": "3.7.3"
  }
 },
 "nbformat": 4,
 "nbformat_minor": 2
}
