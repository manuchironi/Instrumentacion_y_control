{
 "cells": [
  {
   "cell_type": "code",
   "execution_count": 99,
   "metadata": {},
   "outputs": [],
   "source": [
    "import numpy as np\n",
    "import visa\n",
    "import matplotlib.pyplot as plt\n",
    "import time\n",
    "    \n",
    "class Generador():\n",
    "    def __init__(self,ID):\n",
    "        self.obj_visa=rm.open_resource(ID)\n",
    "        self.ID = ID\n",
    "         \n",
    "    def setFrequency(self,freq):\n",
    "        self.obj_visa.write(\"SOURce1:FREQuency:FIXed \"+str(freq))\n",
    "        \n",
    "    def setAmplitude(self,amp):\n",
    "        self.obj_visa.write(\"SOURce1:VOLTage:LEVel:IMMediate:AMPLitude \"+str(amp))\n",
    "        \n",
    "    def setWaveform(self,waveform ='Senoidal'):\n",
    "        switcher = {'Senoidal':\"SIN\",'Cuadrada':\"SQU\",'Pulso':\"PULS\"}\n",
    "        self.obj_visa.write(\"SOURce1:FUNCtion \"+switcher.get(waveform,'Senoidal'))  \n",
    "\n",
    "        \n",
    "class Osciloscopio():\n",
    "\n",
    "    def __init__(self,ID):\n",
    "        self.obj_visa=rm.open_resource(ID)\n",
    "        self.ID = ID\n",
    "        self.parameters = None\n",
    "        \n",
    "    def setBaseTime(self,scale):\n",
    "        self.obj_visa.write('HORizontal:MAIN:SCALe '+str(scale))\n",
    "       # self.obj_visa.write('HORizontal:DELay:SCALe {}'.format(scale))\n",
    " \n",
    "    def capturaPantalla(self):\n",
    "        if self.parameters is None:\n",
    "            YOFF_in_dl = float(self.obj_visa.query(\"WFMP:YOFF?\"))\n",
    "            YZERO_in_YUNits = float(self.obj_visa.query(\"WFMP:YZERO?\"))\n",
    "            YMUlt = float(self.obj_visa.query(\"WFMP:YMULT?\"))\n",
    "            self.parameters = (YOFF_in_dl,YZERO_in_YUNits,YMUlt)\n",
    "        (YOFF_in_dl , YZERO_in_YUNits , YMUlt) = self.parameters\n",
    "        curve_in_dl = np.array(self.obj_visa.query_binary_values('CURV?', datatype='b', is_big_endian=True))\n",
    "        valores = ((curve_in_dl - YOFF_in_dl)*YMUlt)+YZERO_in_YUNits\n",
    "        intervalo = float(osci.obj_visa.query('WFMPre:XINcr?'))\n",
    "        tiempos = np.arange(len(valores))*intervalo\n",
    "        return tiempos, valores"
   ]
  },
  {
   "cell_type": "code",
   "execution_count": 104,
   "metadata": {
    "collapsed": true
   },
   "outputs": [],
   "source": [
    "def sweepe(generador, osciloscopio, init_freq = 100, end_freq = 10100, cant_med = 100):\n",
    "    paso = np.floor(np.divide(end_freq - init_freq,cant_med))\n",
    "    values = np.zeros(cant_med)\n",
    "    freqs = np.add(np.multiply(np.arange(cant_med), paso), init_freq)\n",
    "    for i,freq in enumerate(freqs):\n",
    "        periodo = np.divide(1,freq)\n",
    "        osciloscopio.setBaseTime(0.1*periodo*4)\n",
    "        # Escribir Generador\n",
    "        generador.setFrequency(freq)\n",
    "        # Esperamos a que se setee y lea bien\n",
    "        time.sleep(1)\n",
    "        # Consulta Osciloscopio\n",
    "        osci.obj_visa.write('MEASUrement:IMMed:TYPE PK2pk')\n",
    "        values[i] = float(osci.obj_visa.query('MEASUREMENT:IMMed:VALue?'))\n",
    "    return freqs, values"
   ]
  },
  {
   "cell_type": "code",
   "execution_count": 92,
   "metadata": {
    "collapsed": true
   },
   "outputs": [],
   "source": [
    "rm = visa.ResourceManager()\n",
    "ID=rm.list_resources()\n",
    "genf = Generador(ID[0])\n",
    "osci = Osciloscopio(ID[1])"
   ]
  },
  {
   "cell_type": "code",
   "execution_count": 105,
   "metadata": {},
   "outputs": [
    {
     "data": {
      "image/png": "[encoded data removed]",
      "text/plain": [
       "<matplotlib.figure.Figure at 0x1b0a5f93438>"
      ]
     },
     "metadata": {},
     "output_type": "display_data"
    }
   ],
   "source": [
    "frecuencias, valores = sweepe(genf, osci, cant_med = 20)\n",
    "plt.plot(frecuencias,valores)\n",
    "plt.show()"
   ]
  },
  {
   "cell_type": "code",
   "execution_count": 97,
   "metadata": {},
   "outputs": [
    {
     "data": {
      "text/plain": [
       "array([  100.,   600.,  1100.,  1600.,  2100.,  2600.,  3100.,  3600.,\n",
       "        4100.,  4600.,  5100.,  5600.,  6100.,  6600.,  7100.,  7600.,\n",
       "        8100.,  8600.,  9100.,  9600.])"
      ]
     },
     "execution_count": 97,
     "metadata": {},
     "output_type": "execute_result"
    }
   ],
   "source": [
    "frecuencias"
   ]
  },
  {
   "cell_type": "code",
   "execution_count": 15,
   "metadata": {},
   "outputs": [],
   "source": [
    "paso = np.floor(np.divide(end_freq - init_freq,cant_med))\n",
    "values = np.zeros(cant_med)\n",
    "freqs = np.add(np.multiply(np.arange(cant_med), paso), init_freq)"
   ]
  },
  {
   "cell_type": "code",
   "execution_count": 24,
   "metadata": {},
   "outputs": [
    {
     "data": {
      "text/plain": [
       "3.1199998856"
      ]
     },
     "execution_count": 24,
     "metadata": {},
     "output_type": "execute_result"
    }
   ],
   "source": [
    "osci.obj_visa.write('MEASUrement:IMMed:TYPE PK2pk')\n",
    "float(osci.obj_visa.query('MEASUREMENT:IMMed:VALue?'))"
   ]
  },
  {
   "cell_type": "code",
   "execution_count": 95,
   "metadata": {},
   "outputs": [
    {
     "data": {
      "text/plain": [
       "'1e-05'"
      ]
     },
     "execution_count": 95,
     "metadata": {},
     "output_type": "execute_result"
    }
   ],
   "source": [
    "valor_escala = 0.00001\n",
    "osci.setBaseTime(valor_escala)\n",
    "str(valor_escala)"
   ]
  },
  {
   "cell_type": "code",
   "execution_count": 90,
   "metadata": {},
   "outputs": [
    {
     "data": {
      "text/plain": [
       "(21, <StatusCode.success: 0>)"
      ]
     },
     "execution_count": 90,
     "metadata": {},
     "output_type": "execute_result"
    }
   ],
   "source": [
    "osci.obj_visa.write('HOR:MAIN:SCA 1.0E-6')"
   ]
  },
  {
   "cell_type": "raw",
   "metadata": {},
   "source": []
  },
  {
   "cell_type": "code",
   "execution_count": null,
   "metadata": {
    "collapsed": true
   },
   "outputs": [],
   "source": []
  }
 ],
 "metadata": {
  "kernelspec": {
   "display_name": "Python 3",
   "language": "python",
   "name": "python3"
  },
  "language_info": {
   "codemirror_mode": {
    "name": "ipython",
    "version": 3
   },
   "file_extension": ".py",
   "mimetype": "text/x-python",
   "name": "python",
   "nbconvert_exporter": "python",
   "pygments_lexer": "ipython3",
   "version": "3.6.3"
  }
 },
 "nbformat": 4,
 "nbformat_minor": 2
}
