{
 "cells": [
  {
   "cell_type": "code",
   "execution_count": 1,
   "metadata": {},
   "outputs": [],
   "source": [
    "import numpy as np\n",
    "import visa\n",
    "import matplotlib.pyplot as plt\n",
    "import time\n",
    "from lantz import MessageBasedDriver, Q_\n",
    "from lantz.core import Feat\n",
    "from lantz.core import mfeats\n",
    "from lantz import ureg\n",
    "import sounddevice as sd"
   ]
  },
  {
   "cell_type": "code",
   "execution_count": 2,
   "metadata": {},
   "outputs": [],
   "source": [
    "class Generador(MessageBasedDriver):\n",
    "#    def __init__(self,ID):\n",
    "#        self.obj_visa=rm.open_resource(ID)\n",
    "#        self.ID = ID\n",
    "    set_query = MessageBasedDriver.write\n",
    "    # Feats punciona como un property, pero ademas acepta otras opciones\n",
    "    @Feat()\n",
    "    def idn(self):\n",
    "        return self.query('*IDN?')\n",
    "\n",
    "    # La idea es no usar sets and gets como metodos, sino definir propiedades\n",
    "        \n",
    "    frequency = mfeats.QuantityFeat('SOURce1:FREQuency:FIXed?','SOURce1:FREQuency:FIXed {}',units='Hz',limits=(0.0,1000000))\n",
    "    amplitude = mfeats.QuantityFeat('SOURce1:VOLT:LEV:IMM:AMPL?','SOURce1:VOLT:LEV:IMM:AMPL {}',units='V',limits=(0.05,5))\n",
    "        \n",
    "    def setWaveform(self,waveform ='Senoidal'):\n",
    "        switcher = {'Senoidal':\"SIN\",'Cuadrada':\"SQU\",'Pulso':\"PULS\"}\n",
    "        self.write(\"SOURce1:FUNCtion \"+switcher.get(waveform,'Senoidal'))  \n",
    "\n",
    "        \n",
    "class Osciloscopio(MessageBasedDriver):\n",
    "\n",
    "    set_query = MessageBasedDriver.write\n",
    "    \n",
    "    @Feat()\n",
    "    def idn(self):\n",
    "        return self.query('*IDN?')\n",
    "\n",
    "    timebase = mfeats.QuantityFeat('HORizontal:MAIN:SCALe?','HORizontal:MAIN:SCALe {}',units='s')\n",
    "    vertical_scale = mfeats.QuantityFeat('CH1:SCA?','CH1:SCA {}',units='V')\n",
    "\n",
    "    def vpp(self):\n",
    "        osci.write('MEASUrement:IMMed:TYPE PK2pk')\n",
    "        return float(osci.query('MEASUREMENT:IMMed:VALue?'))\n",
    "        \n",
    "  #  @Feat()\n",
    "    def capturaPantalla(self):\n",
    " #       if self.parameters is None:\n",
    "        YOFF_in_dl = float(self.query(\"WFMP:YOFF?\"))\n",
    "        YZERO_in_YUNits = float(self.query(\"WFMP:YZERO?\"))\n",
    "        YMUlt = float(self.query(\"WFMP:YMULT?\"))\n",
    "        print(YOFF_in_dl,YZERO_in_YUNits,YMUlt)\n",
    "     #   self.parameters = (YOFF_in_dl,YZERO_in_YUNits,YMUlt)\n",
    "      #  (YOFF_in_dl , YZERO_in_YUNits , YMUlt) = self.parameters\n",
    "        curve_in_dl = np.array(self.query_binary_values('CURV?', datatype='b', is_big_endian=True))\n",
    "        valores = ((curve_in_dl - YOFF_in_dl)*YMUlt)+YZERO_in_YUNits\n",
    "        intervalo = float(osci.query('WFMPre:XINcr?'))\n",
    "        tiempos = np.arange(len(valores))*intervalo\n",
    "        return tiempos, valores"
   ]
  },
  {
   "cell_type": "code",
   "execution_count": 3,
   "metadata": {},
   "outputs": [],
   "source": [
    "def sweepe(gener, osci, init_freq = 100, end_freq = 10100, cant_med = 100):\n",
    "    with osci as osciloscopio, gener as generador:\n",
    "        paso = np.floor(np.divide(end_freq - init_freq,cant_med))\n",
    "        values = np.zeros(cant_med)\n",
    "        freqs = np.add(np.multiply(np.arange(cant_med), paso), init_freq)\n",
    "        for i,freq in enumerate(freqs):\n",
    "            periodo = np.divide(1,freq)\n",
    "            osciloscopio.timebase = 0.1*periodo*4*ureg.seconds \n",
    "        # Escribir Generador\n",
    "            generador.frequency= freq*ureg.hertz\n",
    "        # Esperamos a que se setee y lea bien\n",
    "            time.sleep(1)\n",
    "        # Consulta Osciloscopio\n",
    "        #osci.obj_visa.write('MEASUrement:IMMed:TYPE PK2pk')\n",
    "            values[i] = osciloscopio.vpp()#float(osci.obj_visa.query('MEASUREMENT:IMMed:VALue?'))\n",
    "        return freqs, values"
   ]
  },
  {
   "cell_type": "code",
   "execution_count": 3,
   "metadata": {},
   "outputs": [],
   "source": [
    "def sweepe_placa(gener, init_freq = 100, end_freq = 1100, cant_med = 100,prom_number=1):\n",
    "    with gener as generador:\n",
    "        paso = np.floor(np.divide(end_freq - init_freq,cant_med))\n",
    "        amplitud = np.zeros(cant_med)\n",
    "        offset = np.zeros(cant_med)\n",
    "        freqs = np.add(np.multiply(np.arange(cant_med), paso), init_freq)\n",
    "        for i,freq in enumerate(freqs):\n",
    "            periodo = np.divide(1,freq)\n",
    "            generador.frequency= freq*ureg.hertz\n",
    "        # Esperamos a que se setee y lea bien\n",
    "            time.sleep(1)\n",
    "            numero_de_muestras = int(2* periodo * sd.default.samplerate)\n",
    "            amplitud_prom = 0\n",
    "            offset_prom = 0\n",
    "            for n in range(prom_number):\n",
    "            # Consulta Placa\n",
    "                myrecording = sd.rec(numero_de_muestras,channels=2,blocking=True)\n",
    "                medicion = np.asarray([i[0] for i in myrecording])\n",
    "                maximo = np.max(medicion)\n",
    "                minimo = np.min(medicion)\n",
    "                amplitud_prom = amplitud_prom + maximo - minimo\n",
    "                offset_prom = offset_prom + np.divide(maximo + minimo,2)\n",
    "            amplitud[i] = np.divide(amplitud_prom,prom_number)\n",
    "            offset[i] = np.divide(offset_prom,prom_number)\n",
    "        return freqs, amplitud, offset"
   ]
  },
  {
   "cell_type": "code",
   "execution_count": 39,
   "metadata": {},
   "outputs": [],
   "source": [
    "def sweepe_placa_ampl(gener, init_ampl = 0.05, end_ampl = 4, cant_med = 100,prom_number=1):\n",
    "    with gener as generador:\n",
    "        paso = (np.divide(end_ampl - init_ampl,cant_med))\n",
    "        amplitud = np.zeros(cant_med)\n",
    "        offset = np.zeros(cant_med)\n",
    "        ampl = np.add(np.multiply(np.arange(cant_med), paso), init_ampl)\n",
    "        for i,freq in enumerate(ampl):\n",
    "            periodo = np.divide(1,1000)\n",
    "            generador.amplitude= freq*ureg.volts\n",
    "        # Esperamos a que se setee y lea bien\n",
    "            time.sleep(1)\n",
    "            numero_de_muestras = int(2* periodo * sd.default.samplerate)\n",
    "            amplitud_prom = 0\n",
    "            offset_prom = 0\n",
    "            for n in range(prom_number):\n",
    "            # Consulta Placa\n",
    "                myrecording = sd.rec(numero_de_muestras,channels=2,blocking=True)\n",
    "                medicion = np.asarray([i[0] for i in myrecording])\n",
    "                maximo = np.max(medicion)\n",
    "                minimo = np.min(medicion)\n",
    "                amplitud_prom = amplitud_prom + maximo - minimo\n",
    "                offset_prom = offset_prom + np.divide(maximo + minimo,2)\n",
    "            amplitud[i] = np.divide(amplitud_prom,prom_number)\n",
    "            offset[i] = np.divide(offset_prom,prom_number)\n",
    "        return ampl, amplitud, offset"
   ]
  },
  {
   "cell_type": "code",
   "execution_count": 4,
   "metadata": {},
   "outputs": [],
   "source": [
    "rm = visa.ResourceManager()\n",
    "ID=rm.list_resources()\n",
    "genf = Generador(ID[0])\n",
    "#osci = Osciloscopio(ID[1])"
   ]
  },
  {
   "cell_type": "code",
   "execution_count": 14,
   "metadata": {},
   "outputs": [
    {
     "name": "stdout",
     "output_type": "stream",
     "text": [
      "TEKTRONIX,AFG3021B,C034166,SCPI:99.0 FV:3.1.1\n",
      "\n",
      "100.0 hertz\n",
      "0.001 second\n"
     ]
    }
   ],
   "source": [
    "with osci as osciloscopio, genf as generador:   \n",
    "    osciloscopio.vertical_scale = 1.0* ureg.volts\n",
    "   # generador.amplitude = 0.05 * ureg.volts\n",
    "    print(generador.idn)\n",
    "    generador.frequency = 100* ureg.hertz\n",
    "    print(generador.frequency)\n",
    "    print(osciloscopio.timebase)\n",
    "    osciloscopio.timebase = 0.001*ureg.seconds\n",
    "    #a,b=osciloscopio.capturaPantalla()"
   ]
  },
  {
   "cell_type": "code",
   "execution_count": null,
   "metadata": {},
   "outputs": [],
   "source": [
    "frecuencias, valores = sweepe(genf, osci, cant_med = 20)\n",
    "plt.plot(frecuencias,valores)\n",
    "plt.show()"
   ]
  },
  {
   "cell_type": "code",
   "execution_count": 5,
   "metadata": {},
   "outputs": [
    {
     "data": {
      "text/plain": [
       "  0 Asignador de sonido Microsoft - Input, MME (2 in, 0 out)\n",
       "> 1 Micrófono (Dispositivo de High , MME (2 in, 0 out)\n",
       "  2 Asignador de sonido Microsoft - Output, MME (0 in, 2 out)\n",
       "< 3 Auriculares (Dispositivo de Hig, MME (0 in, 2 out)\n",
       "  4 Altavoces (Dispositivo de High , MME (0 in, 2 out)\n",
       "  5 Headphones (Auricular de HD Audio), Windows WDM-KS (0 in, 2 out)\n",
       "  6 Micrófono (Micrófono 2 de HD Audio), Windows WDM-KS (2 in, 0 out)\n",
       "  7 Micrófono (Micrófono de HD Audio), Windows WDM-KS (2 in, 0 out)\n",
       "  8 Speakers (Altavoz de HD Audio), Windows WDM-KS (0 in, 2 out)"
      ]
     },
     "execution_count": 5,
     "metadata": {},
     "output_type": "execute_result"
    }
   ],
   "source": [
    "sd.query_devices()"
   ]
  },
  {
   "cell_type": "code",
   "execution_count": 6,
   "metadata": {},
   "outputs": [
    {
     "name": "stdout",
     "output_type": "stream",
     "text": [
      "44100\n"
     ]
    }
   ],
   "source": [
    "sd.default.samplerate = 11025*4\n",
    "print(sd.default.samplerate)"
   ]
  },
  {
   "cell_type": "code",
   "execution_count": 7,
   "metadata": {},
   "outputs": [
    {
     "name": "stdout",
     "output_type": "stream",
     "text": [
      "100.0\n"
     ]
    }
   ],
   "source": [
    "def sinusoidal(freq, nperiods, sample_rate, points_per_period=100):\n",
    "    tf = nperiods / freq\n",
    "    t = np.linspace(0, tf, num=np.int(tf*sample_rate), endpoint=False)\n",
    "    print(np.floor(tf*sample_rate))\n",
    "    return t, np.sin(2*np.pi*t*sample_rate)\n",
    "#myarray = np.sin(np.linspace(1,12,11025*400))\n",
    "t, myarray=sinusoidal(440,1,4*11025)"
   ]
  },
  {
   "cell_type": "code",
   "execution_count": 52,
   "metadata": {},
   "outputs": [],
   "source": [
    "def sinusoidal(ampl,freq, nperiods, sample_rate, points_per_period=100):\n",
    "    t = np.linspace(0, 1, num=points_per_period, endpoint=False) * nperiods / freq\n",
    "    #print(np.floor(tf*sample_rate))\n",
    "    return t, ampl*np.sin(2*np.pi*t*freq)\n",
    "\n",
    "t, myarray=sinusoidal(10,440,100,11025*4,400)"
   ]
  },
  {
   "cell_type": "code",
   "execution_count": 93,
   "metadata": {},
   "outputs": [
    {
     "data": {
      "text/plain": [
       "[<matplotlib.lines.Line2D at 0xbcad390>]"
      ]
     },
     "execution_count": 93,
     "metadata": {},
     "output_type": "execute_result"
    },
    {
     "data": {
      "image/png": "[encoded data removed]",
      "text/plain": [
       "<Figure size 432x288 with 1 Axes>"
      ]
     },
     "metadata": {
      "needs_background": "light"
     },
     "output_type": "display_data"
    }
   ],
   "source": [
    "def sinusoidal(ampl, freq, duracion, sample_rate):\n",
    "    N = np.int(duracion * sample_rate)\n",
    "    t = np.linspace(0, 1, num=N, endpoint=False) * duracion * sample_rate\n",
    "    #print(np.floor(tf*sample_rate))\n",
    "    return t / sample_rate, ampl*np.sin(2*np.pi*t * freq/sample_rate)\n",
    "\n",
    "t, myarray=sinusoidal(1,440,20,11025*1)\n",
    "plt.plot(t, myarray)"
   ]
  },
  {
   "cell_type": "code",
   "execution_count": 94,
   "metadata": {},
   "outputs": [],
   "source": [
    "sd.play(myarray)"
   ]
  },
  {
   "cell_type": "code",
   "execution_count": 67,
   "metadata": {},
   "outputs": [],
   "source": [
    "duracion = np.divide(2,freq)\n",
    "numero_de_muestras = int(duracion * sd.default.samplerate)\n",
    "myrecording = sd.rec(numero_de_muestras,channels=2,blocking=True)\n",
    "medicion=np.asarray([i[0] for i in myrecording])\n",
    "maximo = np.max(medicion)\n",
    "minimo = np.min(medicion)\n",
    "amplitud = maximo -minimo\n",
    "offset = np.divide(maximo + minimo,2)\n"
   ]
  },
  {
   "cell_type": "code",
   "execution_count": 33,
   "metadata": {},
   "outputs": [
    {
     "name": "stdout",
     "output_type": "stream",
     "text": [
      "0.6101074\n"
     ]
    },
    {
     "data": {
      "image/png": "[encoded data removed]",
      "text/plain": [
       "<Figure size 432x288 with 1 Axes>"
      ]
     },
     "metadata": {
      "needs_background": "light"
     },
     "output_type": "display_data"
    }
   ],
   "source": [
    "#plt.plot(myrecording)\n",
    "myrecording = sd.rec(1*11025,channels=2,blocking=True)\n",
    "a =myrecording.shape\n",
    "mr1=myrecording.reshape((a[1],a[0]))\n",
    "#plt.plot(mr1[0])\n",
    "plt.plot(myrecording)\n",
    "plt.xlim(0,100)\n",
    "print(np.max(myrecording)-np.min(myrecording))\n"
   ]
  },
  {
   "cell_type": "code",
   "execution_count": 10,
   "metadata": {},
   "outputs": [
    {
     "data": {
      "text/plain": [
       "[<matplotlib.lines.Line2D at 0xa6eb9e8>]"
      ]
     },
     "execution_count": 10,
     "metadata": {},
     "output_type": "execute_result"
    },
    {
     "data": {
      "image/png": "[encoded data removed]",
      "text/plain": [
       "<Figure size 432x288 with 1 Axes>"
      ]
     },
     "metadata": {
      "needs_background": "light"
     },
     "output_type": "display_data"
    }
   ],
   "source": [
    "medicion=np.asarray([i[0] for i in myrecording])\n",
    "plt.plot(medicion)\n"
   ]
  },
  {
   "cell_type": "code",
   "execution_count": 85,
   "metadata": {},
   "outputs": [],
   "source": [
    "sd.default.device[1]=3"
   ]
  },
  {
   "cell_type": "code",
   "execution_count": 14,
   "metadata": {},
   "outputs": [],
   "source": [
    "myarray = np.sin(np.linspace(1,12,11025*10))"
   ]
  },
  {
   "cell_type": "code",
   "execution_count": 15,
   "metadata": {},
   "outputs": [],
   "source": [
    "sd.play(myarray)"
   ]
  },
  {
   "cell_type": "code",
   "execution_count": null,
   "metadata": {},
   "outputs": [],
   "source": []
  },
  {
   "cell_type": "code",
   "execution_count": 35,
   "metadata": {},
   "outputs": [
    {
     "ename": "KeyboardInterrupt",
     "evalue": "",
     "output_type": "error",
     "traceback": [
      "\u001b[1;31m---------------------------------------------------------------------------\u001b[0m",
      "\u001b[1;31mKeyboardInterrupt\u001b[0m                         Traceback (most recent call last)",
      "\u001b[1;32m<ipython-input-35-164f07f41acd>\u001b[0m in \u001b[0;36m<module>\u001b[1;34m\u001b[0m\n\u001b[1;32m----> 1\u001b[1;33m \u001b[0mfreq\u001b[0m\u001b[1;33m,\u001b[0m\u001b[0mampl\u001b[0m\u001b[1;33m,\u001b[0m\u001b[0moff\u001b[0m\u001b[1;33m=\u001b[0m\u001b[0msweepe_placa\u001b[0m\u001b[1;33m(\u001b[0m\u001b[0mgenf\u001b[0m\u001b[1;33m,\u001b[0m \u001b[1;36m100\u001b[0m\u001b[1;33m,\u001b[0m \u001b[1;36m30100\u001b[0m\u001b[1;33m,\u001b[0m \u001b[1;36m60\u001b[0m\u001b[1;33m,\u001b[0m\u001b[1;36m10\u001b[0m\u001b[1;33m)\u001b[0m\u001b[1;33m\u001b[0m\u001b[1;33m\u001b[0m\u001b[0m\n\u001b[0m\u001b[0;32m      2\u001b[0m \u001b[0mplt\u001b[0m\u001b[1;33m.\u001b[0m\u001b[0mplot\u001b[0m\u001b[1;33m(\u001b[0m\u001b[0mfreq\u001b[0m\u001b[1;33m,\u001b[0m\u001b[0moff\u001b[0m\u001b[1;33m)\u001b[0m\u001b[1;33m\u001b[0m\u001b[1;33m\u001b[0m\u001b[0m\n",
      "\u001b[1;32m<ipython-input-3-c257d86e8ba9>\u001b[0m in \u001b[0;36msweepe_placa\u001b[1;34m(gener, init_freq, end_freq, cant_med, prom_number)\u001b[0m\n\u001b[0;32m     15\u001b[0m             \u001b[1;32mfor\u001b[0m \u001b[0mn\u001b[0m \u001b[1;32min\u001b[0m \u001b[0mrange\u001b[0m\u001b[1;33m(\u001b[0m\u001b[0mprom_number\u001b[0m\u001b[1;33m)\u001b[0m\u001b[1;33m:\u001b[0m\u001b[1;33m\u001b[0m\u001b[1;33m\u001b[0m\u001b[0m\n\u001b[0;32m     16\u001b[0m             \u001b[1;31m# Consulta Placa\u001b[0m\u001b[1;33m\u001b[0m\u001b[1;33m\u001b[0m\u001b[1;33m\u001b[0m\u001b[0m\n\u001b[1;32m---> 17\u001b[1;33m                 \u001b[0mmyrecording\u001b[0m \u001b[1;33m=\u001b[0m \u001b[0msd\u001b[0m\u001b[1;33m.\u001b[0m\u001b[0mrec\u001b[0m\u001b[1;33m(\u001b[0m\u001b[0mnumero_de_muestras\u001b[0m\u001b[1;33m,\u001b[0m\u001b[0mchannels\u001b[0m\u001b[1;33m=\u001b[0m\u001b[1;36m2\u001b[0m\u001b[1;33m,\u001b[0m\u001b[0mblocking\u001b[0m\u001b[1;33m=\u001b[0m\u001b[1;32mTrue\u001b[0m\u001b[1;33m)\u001b[0m\u001b[1;33m\u001b[0m\u001b[1;33m\u001b[0m\u001b[0m\n\u001b[0m\u001b[0;32m     18\u001b[0m                 \u001b[0mmedicion\u001b[0m \u001b[1;33m=\u001b[0m \u001b[0mnp\u001b[0m\u001b[1;33m.\u001b[0m\u001b[0masarray\u001b[0m\u001b[1;33m(\u001b[0m\u001b[1;33m[\u001b[0m\u001b[0mi\u001b[0m\u001b[1;33m[\u001b[0m\u001b[1;36m0\u001b[0m\u001b[1;33m]\u001b[0m \u001b[1;32mfor\u001b[0m \u001b[0mi\u001b[0m \u001b[1;32min\u001b[0m \u001b[0mmyrecording\u001b[0m\u001b[1;33m]\u001b[0m\u001b[1;33m)\u001b[0m\u001b[1;33m\u001b[0m\u001b[1;33m\u001b[0m\u001b[0m\n\u001b[0;32m     19\u001b[0m                 \u001b[0mmaximo\u001b[0m \u001b[1;33m=\u001b[0m \u001b[0mnp\u001b[0m\u001b[1;33m.\u001b[0m\u001b[0mmax\u001b[0m\u001b[1;33m(\u001b[0m\u001b[0mmedicion\u001b[0m\u001b[1;33m)\u001b[0m\u001b[1;33m\u001b[0m\u001b[1;33m\u001b[0m\u001b[0m\n",
      "\u001b[1;32m~\\Anaconda3\\envs\\Pruebas\\lib\\site-packages\\sounddevice.py\u001b[0m in \u001b[0;36mrec\u001b[1;34m(frames, samplerate, channels, dtype, out, mapping, blocking, **kwargs)\u001b[0m\n\u001b[0;32m    222\u001b[0m \u001b[1;33m\u001b[0m\u001b[0m\n\u001b[0;32m    223\u001b[0m     ctx.start_stream(InputStream, samplerate, ctx.input_channels,\n\u001b[1;32m--> 224\u001b[1;33m                      ctx.input_dtype, callback, blocking, **kwargs)\n\u001b[0m\u001b[0;32m    225\u001b[0m     \u001b[1;32mreturn\u001b[0m \u001b[0mctx\u001b[0m\u001b[1;33m.\u001b[0m\u001b[0mout\u001b[0m\u001b[1;33m\u001b[0m\u001b[1;33m\u001b[0m\u001b[0m\n\u001b[0;32m    226\u001b[0m \u001b[1;33m\u001b[0m\u001b[0m\n",
      "\u001b[1;32m~\\Anaconda3\\envs\\Pruebas\\lib\\site-packages\\sounddevice.py\u001b[0m in \u001b[0;36mstart_stream\u001b[1;34m(self, StreamClass, samplerate, channels, dtype, callback, blocking, **kwargs)\u001b[0m\n\u001b[0;32m   2420\u001b[0m         \u001b[0m_last_callback\u001b[0m \u001b[1;33m=\u001b[0m \u001b[0mself\u001b[0m\u001b[1;33m\u001b[0m\u001b[1;33m\u001b[0m\u001b[0m\n\u001b[0;32m   2421\u001b[0m         \u001b[1;32mif\u001b[0m \u001b[0mblocking\u001b[0m\u001b[1;33m:\u001b[0m\u001b[1;33m\u001b[0m\u001b[1;33m\u001b[0m\u001b[0m\n\u001b[1;32m-> 2422\u001b[1;33m             \u001b[0mself\u001b[0m\u001b[1;33m.\u001b[0m\u001b[0mwait\u001b[0m\u001b[1;33m(\u001b[0m\u001b[1;33m)\u001b[0m\u001b[1;33m\u001b[0m\u001b[1;33m\u001b[0m\u001b[0m\n\u001b[0m\u001b[0;32m   2423\u001b[0m \u001b[1;33m\u001b[0m\u001b[0m\n\u001b[0;32m   2424\u001b[0m     \u001b[1;32mdef\u001b[0m \u001b[0mwait\u001b[0m\u001b[1;33m(\u001b[0m\u001b[0mself\u001b[0m\u001b[1;33m,\u001b[0m \u001b[0mignore_errors\u001b[0m\u001b[1;33m=\u001b[0m\u001b[1;32mTrue\u001b[0m\u001b[1;33m)\u001b[0m\u001b[1;33m:\u001b[0m\u001b[1;33m\u001b[0m\u001b[1;33m\u001b[0m\u001b[0m\n",
      "\u001b[1;32m~\\Anaconda3\\envs\\Pruebas\\lib\\site-packages\\sounddevice.py\u001b[0m in \u001b[0;36mwait\u001b[1;34m(self, ignore_errors)\u001b[0m\n\u001b[0;32m   2429\u001b[0m         \"\"\"\n\u001b[0;32m   2430\u001b[0m         \u001b[1;32mtry\u001b[0m\u001b[1;33m:\u001b[0m\u001b[1;33m\u001b[0m\u001b[1;33m\u001b[0m\u001b[0m\n\u001b[1;32m-> 2431\u001b[1;33m             \u001b[0mself\u001b[0m\u001b[1;33m.\u001b[0m\u001b[0mevent\u001b[0m\u001b[1;33m.\u001b[0m\u001b[0mwait\u001b[0m\u001b[1;33m(\u001b[0m\u001b[1;33m)\u001b[0m\u001b[1;33m\u001b[0m\u001b[1;33m\u001b[0m\u001b[0m\n\u001b[0m\u001b[0;32m   2432\u001b[0m         \u001b[1;32mfinally\u001b[0m\u001b[1;33m:\u001b[0m\u001b[1;33m\u001b[0m\u001b[1;33m\u001b[0m\u001b[0m\n\u001b[0;32m   2433\u001b[0m             \u001b[0mself\u001b[0m\u001b[1;33m.\u001b[0m\u001b[0mstream\u001b[0m\u001b[1;33m.\u001b[0m\u001b[0mclose\u001b[0m\u001b[1;33m(\u001b[0m\u001b[0mignore_errors\u001b[0m\u001b[1;33m)\u001b[0m\u001b[1;33m\u001b[0m\u001b[1;33m\u001b[0m\u001b[0m\n",
      "\u001b[1;32m~\\Anaconda3\\envs\\Pruebas\\lib\\threading.py\u001b[0m in \u001b[0;36mwait\u001b[1;34m(self, timeout)\u001b[0m\n\u001b[0;32m    550\u001b[0m             \u001b[0msignaled\u001b[0m \u001b[1;33m=\u001b[0m \u001b[0mself\u001b[0m\u001b[1;33m.\u001b[0m\u001b[0m_flag\u001b[0m\u001b[1;33m\u001b[0m\u001b[1;33m\u001b[0m\u001b[0m\n\u001b[0;32m    551\u001b[0m             \u001b[1;32mif\u001b[0m \u001b[1;32mnot\u001b[0m \u001b[0msignaled\u001b[0m\u001b[1;33m:\u001b[0m\u001b[1;33m\u001b[0m\u001b[1;33m\u001b[0m\u001b[0m\n\u001b[1;32m--> 552\u001b[1;33m                 \u001b[0msignaled\u001b[0m \u001b[1;33m=\u001b[0m \u001b[0mself\u001b[0m\u001b[1;33m.\u001b[0m\u001b[0m_cond\u001b[0m\u001b[1;33m.\u001b[0m\u001b[0mwait\u001b[0m\u001b[1;33m(\u001b[0m\u001b[0mtimeout\u001b[0m\u001b[1;33m)\u001b[0m\u001b[1;33m\u001b[0m\u001b[1;33m\u001b[0m\u001b[0m\n\u001b[0m\u001b[0;32m    553\u001b[0m             \u001b[1;32mreturn\u001b[0m \u001b[0msignaled\u001b[0m\u001b[1;33m\u001b[0m\u001b[1;33m\u001b[0m\u001b[0m\n\u001b[0;32m    554\u001b[0m \u001b[1;33m\u001b[0m\u001b[0m\n",
      "\u001b[1;32m~\\Anaconda3\\envs\\Pruebas\\lib\\threading.py\u001b[0m in \u001b[0;36mwait\u001b[1;34m(self, timeout)\u001b[0m\n\u001b[0;32m    294\u001b[0m         \u001b[1;32mtry\u001b[0m\u001b[1;33m:\u001b[0m    \u001b[1;31m# restore state no matter what (e.g., KeyboardInterrupt)\u001b[0m\u001b[1;33m\u001b[0m\u001b[1;33m\u001b[0m\u001b[0m\n\u001b[0;32m    295\u001b[0m             \u001b[1;32mif\u001b[0m \u001b[0mtimeout\u001b[0m \u001b[1;32mis\u001b[0m \u001b[1;32mNone\u001b[0m\u001b[1;33m:\u001b[0m\u001b[1;33m\u001b[0m\u001b[1;33m\u001b[0m\u001b[0m\n\u001b[1;32m--> 296\u001b[1;33m                 \u001b[0mwaiter\u001b[0m\u001b[1;33m.\u001b[0m\u001b[0macquire\u001b[0m\u001b[1;33m(\u001b[0m\u001b[1;33m)\u001b[0m\u001b[1;33m\u001b[0m\u001b[1;33m\u001b[0m\u001b[0m\n\u001b[0m\u001b[0;32m    297\u001b[0m                 \u001b[0mgotit\u001b[0m \u001b[1;33m=\u001b[0m \u001b[1;32mTrue\u001b[0m\u001b[1;33m\u001b[0m\u001b[1;33m\u001b[0m\u001b[0m\n\u001b[0;32m    298\u001b[0m             \u001b[1;32melse\u001b[0m\u001b[1;33m:\u001b[0m\u001b[1;33m\u001b[0m\u001b[1;33m\u001b[0m\u001b[0m\n",
      "\u001b[1;31mKeyboardInterrupt\u001b[0m: "
     ]
    }
   ],
   "source": [
    "freq,ampl,off=sweepe_placa(genf, 100, 30100, 60,10)\n",
    "plt.plot(freq,off)"
   ]
  },
  {
   "cell_type": "code",
   "execution_count": 26,
   "metadata": {},
   "outputs": [],
   "source": [
    "np.savetxt('C:/Users/usuario/Documents/GitHub/Instrumentacion_y_control/Informe_1/Datos/Respuesta_input_placa_revisado_5k.txt',(freq,ampl,off))"
   ]
  },
  {
   "cell_type": "code",
   "execution_count": 31,
   "metadata": {},
   "outputs": [],
   "source": [
    "(freq,ampl,off) = np.loadtxt('respuesta_input_placa.out')"
   ]
  },
  {
   "cell_type": "code",
   "execution_count": 25,
   "metadata": {},
   "outputs": [
    {
     "data": {
      "text/plain": [
       "Text(0, 0.5, 'Amplitud [u.a.]')"
      ]
     },
     "execution_count": 25,
     "metadata": {},
     "output_type": "execute_result"
    },
    {
     "data": {
      "image/png": "[encoded data removed]",
      "text/plain": [
       "<Figure size 432x288 with 1 Axes>"
      ]
     },
     "metadata": {
      "needs_background": "light"
     },
     "output_type": "display_data"
    }
   ],
   "source": [
    "plt.plot(freq,ampl,'.')\n",
    "plt.xlabel('Frecuencia [Hz]')\n",
    "plt.ylabel('Amplitud [u.a.]')"
   ]
  },
  {
   "cell_type": "code",
   "execution_count": 17,
   "metadata": {},
   "outputs": [
    {
     "data": {
      "text/plain": [
       "[<matplotlib.lines.Line2D at 0xaabeef0>]"
      ]
     },
     "execution_count": 17,
     "metadata": {},
     "output_type": "execute_result"
    },
    {
     "data": {
      "image/png": "[encoded data removed]",
      "text/plain": [
       "<Figure size 432x288 with 1 Axes>"
      ]
     },
     "metadata": {
      "needs_background": "light"
     },
     "output_type": "display_data"
    }
   ],
   "source": [
    "plt.plot(freq,off,'.')"
   ]
  },
  {
   "cell_type": "code",
   "execution_count": 40,
   "metadata": {},
   "outputs": [
    {
     "data": {
      "text/plain": [
       "[<matplotlib.lines.Line2D at 0x9fd29b0>]"
      ]
     },
     "execution_count": 40,
     "metadata": {},
     "output_type": "execute_result"
    },
    {
     "data": {
      "image/png": "[encoded data removed]",
      "text/plain": [
       "<Figure size 432x288 with 1 Axes>"
      ]
     },
     "metadata": {
      "needs_background": "light"
     },
     "output_type": "display_data"
    }
   ],
   "source": [
    "freq,ampl,off=sweepe_placa_ampl(genf, 0.05, 4, 60,10)\n",
    "plt.plot(freq,ampl)"
   ]
  },
  {
   "cell_type": "code",
   "execution_count": 41,
   "metadata": {},
   "outputs": [],
   "source": [
    "np.savetxt('C:/Users/usuario/Documents/GitHub/Instrumentacion_y_control/Informe_1/Datos/Caracteriz_ampl_input_placa_revisado_5k_0_4V.txt',(freq,ampl,off))"
   ]
  },
  {
   "cell_type": "code",
   "execution_count": null,
   "metadata": {},
   "outputs": [],
   "source": []
  }
 ],
 "metadata": {
  "kernelspec": {
   "display_name": "Python 3",
   "language": "python",
   "name": "python3"
  },
  "language_info": {
   "codemirror_mode": {
    "name": "ipython",
    "version": 3
   },
   "file_extension": ".py",
   "mimetype": "text/x-python",
   "name": "python",
   "nbconvert_exporter": "python",
   "pygments_lexer": "ipython3",
   "version": "3.7.3"
  }
 },
 "nbformat": 4,
 "nbformat_minor": 2
}
