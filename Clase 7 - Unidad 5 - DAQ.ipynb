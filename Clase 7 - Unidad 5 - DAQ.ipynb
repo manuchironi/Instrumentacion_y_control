{
 "cells": [
  {
   "cell_type": "code",
   "execution_count": 1,
   "metadata": {},
   "outputs": [],
   "source": [
    "import nidaqmx\n",
    "import numpy as np\n",
    "import matplotlib.pyplot as plt"
   ]
  },
  {
   "cell_type": "code",
   "execution_count": 3,
   "metadata": {},
   "outputs": [
    {
     "name": "stdout",
     "output_type": "stream",
     "text": [
      "Device(name=Dev1)\n"
     ]
    }
   ],
   "source": [
    "system = nidaqmx.system.System.local()\n",
    "system.driver_version\n",
    "#DriverVersion(major_version=16L, minor_version=0L, update_version=0L)\n",
    "for device in system.devices:\n",
    "    print(device)"
   ]
  },
  {
   "cell_type": "code",
   "execution_count": null,
   "metadata": {},
   "outputs": [],
<<<<<<< HEAD
   "source": []
=======
   "source": [
    "def adquisicion(task,time,freq)\n",
    "    dt = np.divide(1,freq)\n",
    "    time_vector = np.arange(0,final_time,dt)\n",
    "    num_of_points = len(time_vector)  \n",
    "    data = task.read(number_of_samples_per_channel=num_of_points)\n",
    "    return (time_vector,np.asarray(data))\n",
    "\n",
    "time = 5\n",
    "freq = 10000\n",
    "\n",
    "with nidaqmx.Task() as task:\n",
    "    task.ao_channels.add_ao_voltage_chan('Dev1/ao0')\n",
    "    task.timing.cfg_samp_clk_timing(freq)\n",
    "    (tiempos,data) = adquisicion(task,time,freq)\n",
    "#    task.write([1.1, 2.2, 3.3, 4.4, 5.5], auto_start=True)\n",
    "\n",
    "plt.print(tiempos,data)   "
   ]
>>>>>>> 5c60b1b7357605a457fc9427f41a409c31832a70
  }
 ],
 "metadata": {
  "kernelspec": {
   "display_name": "Python 3",
   "language": "python",
   "name": "python3"
  },
  "language_info": {
   "codemirror_mode": {
    "name": "ipython",
    "version": 3
   },
   "file_extension": ".py",
   "mimetype": "text/x-python",
   "name": "python",
   "nbconvert_exporter": "python",
   "pygments_lexer": "ipython3",
   "version": "3.7.0"
  }
 },
 "nbformat": 4,
 "nbformat_minor": 2
}
