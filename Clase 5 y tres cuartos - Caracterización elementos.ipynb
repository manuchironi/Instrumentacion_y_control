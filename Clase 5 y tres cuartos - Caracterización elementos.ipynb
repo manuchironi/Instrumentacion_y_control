{
 "cells": [
  {
   "cell_type": "code",
   "execution_count": 1,
   "metadata": {},
   "outputs": [],
   "source": [
    "import numpy as np\n",
    "import visa\n",
    "import matplotlib.pyplot as plt\n",
    "import time\n",
    "from lantz import MessageBasedDriver, Q_\n",
    "from lantz.core import Feat\n",
    "from lantz.core import mfeats\n",
    "from lantz import ureg\n",
    "import sounddevice as sd\n",
    "from scipy import signal as sg"
   ]
  },
  {
   "cell_type": "code",
   "execution_count": 2,
   "metadata": {},
   "outputs": [],
   "source": [
    "class Generador(MessageBasedDriver):\n",
    "#    def __init__(self,ID):\n",
    "#        self.obj_visa=rm.open_resource(ID)\n",
    "#        self.ID = ID\n",
    "    set_query = MessageBasedDriver.write\n",
    "    # Feats punciona como un property, pero ademas acepta otras opciones\n",
    "    @Feat()\n",
    "    def idn(self):\n",
    "        return self.query('*IDN?')\n",
    "\n",
    "    # La idea es no usar sets and gets como metodos, sino definir propiedades\n",
    "        \n",
    "    frequency = mfeats.QuantityFeat('SOURce1:FREQuency:FIXed?','SOURce1:FREQuency:FIXed {}',units='Hz',limits=(0.0,1000000))\n",
    "    amplitude = mfeats.QuantityFeat('SOURce1:VOLT:LEV:IMM:AMPL?','SOURce1:VOLT:LEV:IMM:AMPL {}',units='V',limits=(0.05,5))\n",
    "    offset = mfeats.QuantityFeat('SOURce1:VOLT:LEV:IMM:OFFS?','SOURce1:VOLT:LEV:IMM:OFFS {}',units='V',limits=(0,10))\n",
    "        \n",
    "    def setWaveform(self,waveform ='Senoidal'):\n",
    "        switcher = {'Senoidal':\"SIN\",'Cuadrada':\"SQU\",'Pulso':\"PULS\"}\n",
    "        self.write(\"SOURce1:FUNCtion \"+switcher.get(waveform,'Senoidal'))  \n",
    "\n",
    "        \n",
    "class Osciloscopio(MessageBasedDriver):\n",
    "\n",
    "    set_query = MessageBasedDriver.write\n",
    "    \n",
    "    @Feat()\n",
    "    def idn(self):\n",
    "        return self.query('*IDN?')\n",
    "\n",
    "    timebase = mfeats.QuantityFeat('HORizontal:MAIN:SCALe?','HORizontal:MAIN:SCALe {}',units='s')\n",
    "    vertical_scale = mfeats.QuantityFeat('CH1:SCA?','CH1:SCA {}',units='V')\n",
    "\n",
    "    def vpp(self):\n",
    "        osci.write('MEASUrement:IMMed:TYPE PK2pk')\n",
    "        return float(osci.query('MEASUREMENT:IMMed:VALue?'))\n",
    "\n",
    "    def mean(self):\n",
    "        osci.write('MEASUrement:IMMed:TYPE MEAN')\n",
    "        return float(osci.query('MEASUREMENT:IMMed:VALue?')) \n",
    "    \n",
    "    @Feat()\n",
    "    def capturaPantalla(self):\n",
    " #       if self.parameters is None:\n",
    "        YOFF_in_dl = float(self.query(\"WFMP:YOFF?\"))\n",
    "        YZERO_in_YUNits = float(self.query(\"WFMP:YZERO?\"))\n",
    "        YMUlt = float(self.query(\"WFMP:YMULT?\"))\n",
    "        print(YOFF_in_dl,YZERO_in_YUNits,YMUlt)\n",
    "     #   self.parameters = (YOFF_in_dl,YZERO_in_YUNits,YMUlt)\n",
    "      #  (YOFF_in_dl , YZERO_in_YUNits , YMUlt) = self.parameters\n",
    "        curve_in_dl = np.array(self.query('CURV?'))#, datatype='b', is_big_endian=True))\n",
    "        valores = ((curve_in_dl - YOFF_in_dl)*YMUlt)+YZERO_in_YUNits\n",
    "        intervalo = float(osci.query('WFMPre:XINcr?'))\n",
    "        tiempos = np.arange(len(valores))*intervalo\n",
    "        return tiempos, valores\n",
    "    "
   ]
  },
  {
   "cell_type": "code",
   "execution_count": 3,
   "metadata": {},
   "outputs": [],
   "source": [
    "def sweepe_placa(gener, init_freq = 100, end_freq = 1100, cant_med = 100,prom_number=1):\n",
    "    with gener as generador:\n",
    "        paso = np.floor(np.divide(end_freq - init_freq,cant_med))\n",
    "        amplitud = np.zeros(cant_med)\n",
    "        offset = np.zeros(cant_med)\n",
    "        freqs = np.add(np.multiply(np.arange(cant_med), paso), init_freq)\n",
    "        for i,freq in enumerate(freqs):\n",
    "            periodo = np.divide(1,freq)\n",
    "            generador.frequency= freq*ureg.hertz\n",
    "        # Esperamos a que se setee y lea bien\n",
    "            time.sleep(1)\n",
    "            numero_de_muestras = int(2* periodo * sd.default.samplerate)\n",
    "            amplitud_prom = 0\n",
    "            offset_prom = 0\n",
    "            for n in range(prom_number):\n",
    "            # Consulta Placa\n",
    "                myrecording = sd.rec(numero_de_muestras,channels=2,blocking=True)\n",
    "                medicion = np.asarray([i[0] for i in myrecording])\n",
    "                maximo = np.max(medicion)\n",
    "                minimo = np.min(medicion)\n",
    "                amplitud_prom = amplitud_prom + maximo - minimo\n",
    "                offset_prom = offset_prom + np.divide(maximo + minimo,2)\n",
    "            amplitud[i] = np.divide(amplitud_prom,prom_number)\n",
    "            offset[i] = np.divide(offset_prom,prom_number)\n",
    "        return freqs, amplitud, offset"
   ]
  },
  {
   "cell_type": "code",
   "execution_count": 128,
   "metadata": {},
   "outputs": [],
   "source": [
    "rm = visa.ResourceManager()\n",
    "ID=rm.list_resources()\n",
    "genf = Generador(ID[0])\n",
    "osci = Osciloscopio(ID[1])"
   ]
  },
  {
   "cell_type": "code",
   "execution_count": 5,
   "metadata": {},
   "outputs": [
    {
     "data": {
      "text/plain": [
       "('USB0::0x0699::0x0346::C034165::INSTR',\n",
       " 'USB0::0x0699::0x0363::C108011::INSTR')"
      ]
     },
     "execution_count": 5,
     "metadata": {},
     "output_type": "execute_result"
    }
   ],
   "source": [
    "ID"
   ]
  },
  {
   "cell_type": "code",
   "execution_count": 6,
   "metadata": {},
   "outputs": [],
   "source": [
    "sd.default.samplerate = 44100 "
   ]
  },
  {
   "cell_type": "markdown",
   "metadata": {},
   "source": [
    "La nueva función senoidal que definimos a continuación incorpora la posibilidad de tener un offset de tensión para alimentar con señales DC"
   ]
  },
  {
   "cell_type": "code",
   "execution_count": 126,
   "metadata": {},
   "outputs": [],
   "source": [
    "def Senoidal(Offs,Ampl,Freq,nPeriods):\n",
    "    n=nPeriods\n",
    "    SR = sd.default.samplerate\n",
    "    t = np.linspace(0,n*np.divide(1,Freq),n*int(np.divide(SR,Freq)),endpoint=False) # valores de tiempo que van a ser barridos.\n",
    "    return t,np.divide(Ampl*np.sin(2*np.pi*Freq*t)+Offs,1.6)\n",
    "\n",
    "def PlaySin(Ampl,Freq,Time):\n",
    "    t,y=Senoidal(Ampl,Freq,1)\n",
    "    sd.play(y,loop=True)\n",
    "    time.sleep(Time)\n",
    "    sd.stop()"
   ]
  },
  {
   "cell_type": "code",
   "execution_count": 96,
   "metadata": {},
   "outputs": [
    {
     "data": {
      "image/png": "[encoded data removed]",
      "text/plain": [
       "<Figure size 432x288 with 1 Axes>"
      ]
     },
     "metadata": {
      "needs_background": "light"
     },
     "output_type": "display_data"
    }
   ],
   "source": [
    "Freq = 1000\n",
    "t,y=Senoidal(0,.5,Freq,1)\n",
    "plt.plot(t,y,'-')\n",
    "\n",
    "sd.play(y,loop=True)"
   ]
  },
  {
   "cell_type": "code",
   "execution_count": 41,
   "metadata": {},
   "outputs": [
    {
     "ename": "KeyboardInterrupt",
     "evalue": "",
     "output_type": "error",
     "traceback": [
      "\u001b[1;31m---------------------------------------------------------------------------\u001b[0m",
      "\u001b[1;31mKeyboardInterrupt\u001b[0m                         Traceback (most recent call last)",
      "\u001b[1;32m<ipython-input-41-d4b5e6215ac8>\u001b[0m in \u001b[0;36m<module>\u001b[1;34m\u001b[0m\n\u001b[0;32m      5\u001b[0m         \u001b[0mt\u001b[0m\u001b[1;33m,\u001b[0m\u001b[0my\u001b[0m\u001b[1;33m=\u001b[0m\u001b[0mSenoidal\u001b[0m\u001b[1;33m(\u001b[0m\u001b[1;36m0\u001b[0m\u001b[1;33m,\u001b[0m\u001b[0mi\u001b[0m\u001b[1;33m,\u001b[0m\u001b[1;36m1000\u001b[0m\u001b[1;33m,\u001b[0m\u001b[1;36m1\u001b[0m\u001b[1;33m)\u001b[0m\u001b[1;33m\u001b[0m\u001b[1;33m\u001b[0m\u001b[0m\n\u001b[0;32m      6\u001b[0m         \u001b[0msd\u001b[0m\u001b[1;33m.\u001b[0m\u001b[0mplay\u001b[0m\u001b[1;33m(\u001b[0m\u001b[0my\u001b[0m\u001b[1;33m,\u001b[0m\u001b[0mloop\u001b[0m\u001b[1;33m=\u001b[0m\u001b[1;32mTrue\u001b[0m\u001b[1;33m)\u001b[0m\u001b[1;33m\u001b[0m\u001b[1;33m\u001b[0m\u001b[0m\n\u001b[1;32m----> 7\u001b[1;33m         \u001b[0mtime\u001b[0m\u001b[1;33m.\u001b[0m\u001b[0msleep\u001b[0m\u001b[1;33m(\u001b[0m\u001b[1;36m2\u001b[0m\u001b[1;33m)\u001b[0m\u001b[1;33m\u001b[0m\u001b[1;33m\u001b[0m\u001b[0m\n\u001b[0m\u001b[0;32m      8\u001b[0m         \u001b[0mV_out\u001b[0m\u001b[1;33m.\u001b[0m\u001b[0mappend\u001b[0m\u001b[1;33m(\u001b[0m\u001b[0mosciloscopio\u001b[0m\u001b[1;33m.\u001b[0m\u001b[0mvpp\u001b[0m\u001b[1;33m(\u001b[0m\u001b[1;33m)\u001b[0m\u001b[1;33m)\u001b[0m\u001b[1;33m\u001b[0m\u001b[1;33m\u001b[0m\u001b[0m\n\u001b[0;32m      9\u001b[0m         \u001b[0msd\u001b[0m\u001b[1;33m.\u001b[0m\u001b[0mstop\u001b[0m\u001b[1;33m(\u001b[0m\u001b[1;33m)\u001b[0m\u001b[1;33m\u001b[0m\u001b[1;33m\u001b[0m\u001b[0m\n",
      "\u001b[1;31mKeyboardInterrupt\u001b[0m: "
     ]
    }
   ],
   "source": [
    "V_in=np.linspace(0,0.5,60)\n",
    "V_out = []\n",
    "with osci as osciloscopio:\n",
    "    for i in V_in:\n",
    "        t,y=Senoidal(0,i,1000,1)\n",
    "        sd.play(y,loop=True)\n",
    "        time.sleep(2)\n",
    "        V_out.append(osciloscopio.vpp())\n",
    "        sd.stop()\n",
    "        \n",
    "plt.plot(V_in,np.divide(V_out,2),'.-')\n",
    "\n",
    "sd.stop()"
   ]
  },
  {
   "cell_type": "code",
   "execution_count": 35,
   "metadata": {},
   "outputs": [
    {
     "data": {
      "image/png": "[encoded data removed]",
      "text/plain": [
       "<Figure size 432x288 with 1 Axes>"
      ]
     },
     "metadata": {
      "needs_background": "light"
     },
     "output_type": "display_data"
    }
   ],
   "source": [
    "V_in=np.linspace(0,1.5,60)\n",
    "V_out = []\n",
    "with osci as osciloscopio:\n",
    "    for i in V_in:\n",
    "        t,y=Senoidal(i,0,1000,1)\n",
    "        sd.play(y,loop=True)\n",
    "        time.sleep(2)\n",
    "        V_out.append(osciloscopio.mean())\n",
    "        sd.stop()\n",
    "        \n",
    "plt.plot(V_in,np.divide(V_out,2),'.-')\n",
    "\n",
    "sd.stop()"
   ]
  },
  {
   "cell_type": "code",
   "execution_count": 8,
   "metadata": {},
   "outputs": [
    {
     "data": {
      "text/plain": [
       "  0 Asignador de sonido Microsoft - Input, MME (2 in, 0 out)\n",
       "> 1 Micrófono (Dispositivo de High , MME (2 in, 0 out)\n",
       "  2 Asignador de sonido Microsoft - Output, MME (0 in, 2 out)\n",
       "< 3 Auriculares (Dispositivo de Hig, MME (0 in, 2 out)\n",
       "  4 Altavoces (Dispositivo de High , MME (0 in, 2 out)\n",
       "  5 Headphones (Auricular de HD Audio), Windows WDM-KS (0 in, 2 out)\n",
       "  6 Micrófono (Micrófono 2 de HD Audio), Windows WDM-KS (2 in, 0 out)\n",
       "  7 Micrófono (Micrófono de HD Audio), Windows WDM-KS (2 in, 0 out)\n",
       "  8 Speakers (Altavoz de HD Audio), Windows WDM-KS (0 in, 2 out)"
      ]
     },
     "execution_count": 8,
     "metadata": {},
     "output_type": "execute_result"
    }
   ],
   "source": [
    "sd.query_devices()"
   ]
  },
  {
   "cell_type": "code",
   "execution_count": 70,
   "metadata": {},
   "outputs": [
    {
     "data": {
      "text/plain": [
       "(0, 0.002)"
      ]
     },
     "execution_count": 70,
     "metadata": {},
     "output_type": "execute_result"
    },
    {
     "data": {
      "image/png": "[encoded data removed]",
      "text/plain": [
       "<Figure size 432x288 with 1 Axes>"
      ]
     },
     "metadata": {
      "needs_background": "light"
     },
     "output_type": "display_data"
    }
   ],
   "source": [
    "N=10000\n",
    "i=3\n",
    "with osci as osciloscopio, genf as generador:\n",
    "    generador.amplitude = i*ureg.volts\n",
    "time.sleep(2)        \n",
    "myrecording = sd.rec(N,channels=2,blocking=True)\n",
    "ch1=np.asarray([i[0] for i in myrecording])\n",
    "ch2=np.asarray([i[1] for i in myrecording])\n",
    "tiempo = np.divide(np.arange(len(ch1)),sd.default.samplerate)\n",
    "plt.plot(tiempo,ch1)\n",
    "#plt.plot(tiempo,ch2+0.5)\n",
    "#plt.plot(medicion)\n",
    "plt.xlim(0,0.002)"
   ]
  },
  {
   "cell_type": "code",
   "execution_count": 15,
   "metadata": {},
   "outputs": [
    {
     "data": {
      "text/plain": [
       "array([0, 1, 2, 3, 4])"
      ]
     },
     "execution_count": 15,
     "metadata": {},
     "output_type": "execute_result"
    }
   ],
   "source": [
    "np.arange(5)"
   ]
  },
  {
   "cell_type": "code",
   "execution_count": 47,
   "metadata": {},
   "outputs": [
    {
     "data": {
      "text/plain": [
       "[<matplotlib.lines.Line2D at 0xd022da0>]"
      ]
     },
     "execution_count": 47,
     "metadata": {},
     "output_type": "execute_result"
    },
    {
     "data": {
      "image/png": "[encoded data removed]",
      "text/plain": [
       "<Figure size 432x288 with 1 Axes>"
      ]
     },
     "metadata": {
      "needs_background": "light"
     },
     "output_type": "display_data"
    }
   ],
   "source": [
    "V_in = np.linspace(0.05,3,50)\n",
    "N=10000\n",
    "V_pl = []\n",
    "with osci as osciloscopio, genf as generador:\n",
    "    for i in V_in:\n",
    "        generador.amplitude = i*ureg.volts\n",
    "        generador.offset = 0*ureg.volts\n",
    "        time.sleep(2)\n",
    "        myrecording = sd.rec(N,channels=2,blocking=True)\n",
    "        ch1=np.asarray([i[0] for i in myrecording])\n",
    "        v=np.max(ch1)-np.min(ch1)\n",
    "        #i_d.append(np.divide(v,1000))\n",
    "        V_pl.append(v)\n",
    "plt.plot(V_in,V_pl,'.')"
   ]
  },
  {
   "cell_type": "code",
   "execution_count": 32,
   "metadata": {},
   "outputs": [
    {
     "data": {
      "text/plain": [
       "[<matplotlib.lines.Line2D at 0x6458080>]"
      ]
     },
     "execution_count": 32,
     "metadata": {},
     "output_type": "execute_result"
    },
    {
     "data": {
      "image/png": "[encoded data removed]",
      "text/plain": [
       "<Figure size 432x288 with 1 Axes>"
      ]
     },
     "metadata": {
      "needs_background": "light"
     },
     "output_type": "display_data"
    }
   ],
   "source": [
    "plt.plot(V_in,np.multiply(V_pl,2),'.')"
   ]
  },
  {
   "cell_type": "code",
   "execution_count": 49,
   "metadata": {},
   "outputs": [],
   "source": [
    "np.savetxt('C:/Users/usuario/Documents/GitHub/Instrumentacion_y_control/Informe_1/Datos/Caracterizacion_Vin_placa_1kHz.txt',(V_in,V_pl))"
   ]
  },
  {
   "cell_type": "code",
   "execution_count": 120,
   "metadata": {},
   "outputs": [
    {
     "data": {
      "text/plain": [
       "[<matplotlib.lines.Line2D at 0x642af28>]"
      ]
     },
     "execution_count": 120,
     "metadata": {},
     "output_type": "execute_result"
    },
    {
     "data": {
      "image/png": "[encoded data removed]",
      "text/plain": [
       "<Figure size 432x288 with 1 Axes>"
      ]
     },
     "metadata": {
      "needs_background": "light"
     },
     "output_type": "display_data"
    }
   ],
   "source": [
    "Freq = 1000\n",
    "t,y=Senoidal(0,.5,Freq,1)\n",
    "sonido = np.concatenate((y,y,y,y,y))\n",
    "#sd.play(y,loop=True)\n",
    "myrecording = sd.playrec(sonido, channels=2)\n",
    "\n",
    "ch1=np.asarray([i[0] for i in myrecording])\n",
    "ch2=np.asarray([i[1] for i in myrecording])\n",
    "tiempo = np.divide(np.arange(len(ch1)),sd.default.samplerate)\n",
    "plt.plot(tiempo,ch1)\n",
    "plt.plot(tiempo,ch2)\n",
    "#plt.plot(medicion)\n",
    "#plt.xlim(0,.01)"
   ]
  },
  {
   "cell_type": "code",
   "execution_count": 123,
   "metadata": {},
   "outputs": [],
   "source": [
    "sd.stop()"
   ]
  },
  {
   "cell_type": "code",
   "execution_count": 129,
   "metadata": {},
   "outputs": [
    {
     "data": {
      "text/plain": [
       "[<matplotlib.lines.Line2D at 0xd2a3358>]"
      ]
     },
     "execution_count": 129,
     "metadata": {},
     "output_type": "execute_result"
    },
    {
     "data": {
      "image/png": "[encoded data removed]",
      "text/plain": [
       "<Figure size 432x288 with 1 Axes>"
      ]
     },
     "metadata": {
      "needs_background": "light"
     },
     "output_type": "display_data"
    }
   ],
   "source": [
    "V_in = np.linspace(0,0.8,50)\n",
    "V_osci = []\n",
    "Freq = 1000\n",
    "with osci as osciloscopio, genf as generador:\n",
    "    for i in V_in:      \n",
    "        t,y=Senoidal(0,i,Freq,1)\n",
    "        sd.play(y,loop=True)\n",
    "        time.sleep(2)\n",
    "        V_osci.append(osciloscopio.vpp())\n",
    "plt.plot(V_in,V_osci)"
   ]
  },
  {
   "cell_type": "code",
   "execution_count": 114,
   "metadata": {},
   "outputs": [
    {
     "data": {
      "text/plain": [
       "[<matplotlib.lines.Line2D at 0x63d5c88>]"
      ]
     },
     "execution_count": 114,
     "metadata": {},
     "output_type": "execute_result"
    },
    {
     "data": {
      "image/png": "[encoded data removed]",
      "text/plain": [
       "<Figure size 432x288 with 1 Axes>"
      ]
     },
     "metadata": {
      "needs_background": "light"
     },
     "output_type": "display_data"
    }
   ],
   "source": [
    "plt.plot(sonido)"
   ]
  },
  {
   "cell_type": "code",
   "execution_count": 130,
   "metadata": {},
   "outputs": [],
   "source": [
    "np.savetxt('C:/Users/usuario/Documents/GitHub/Instrumentacion_y_control/Informe_1/Datos/Ganancia_opam_10.txt',(V_in,V_osci))"
   ]
  },
  {
   "cell_type": "code",
   "execution_count": null,
   "metadata": {},
   "outputs": [],
   "source": []
  }
 ],
 "metadata": {
  "kernelspec": {
   "display_name": "Python 3",
   "language": "python",
   "name": "python3"
  },
  "language_info": {
   "codemirror_mode": {
    "name": "ipython",
    "version": 3
   },
   "file_extension": ".py",
   "mimetype": "text/x-python",
   "name": "python",
   "nbconvert_exporter": "python",
   "pygments_lexer": "ipython3",
   "version": "3.7.3"
  }
 },
 "nbformat": 4,
 "nbformat_minor": 2
}
