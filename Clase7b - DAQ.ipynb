{
 "cells": [
  {
   "cell_type": "code",
   "execution_count": 11,
   "metadata": {},
   "outputs": [],
   "source": [
    "import nidaqmx\n",
    "import numpy as np\n",
    "import matplotlib.pyplot as plt\n",
    "import visa\n",
    "import time\n",
    "from lantz import MessageBasedDriver, Q_\n",
    "from lantz.core import Feat\n",
    "from lantz.core import mfeats\n",
    "    \n",
    "\n",
    "def adquisicion(task,time,freq):\n",
    "    dt = np.divide(1,freq)\n",
    "    print(dt)\n",
    "    time_vector = np.arange(0,time,dt)\n",
    "    print(len(time_vector))\n",
    "    num_of_points = len(time_vector)  \n",
    "    data = task.read(number_of_samples_per_channel=num_of_points)\n",
    "    print(len(data))\n",
    "    return (time_vector,np.asarray(data))\n"
   ]
  },
  {
   "cell_type": "code",
   "execution_count": 81,
   "metadata": {},
   "outputs": [
    {
     "ename": "RuntimeError",
     "evalue": "Error calling __set_name__ on 'Feat' instance 'freq' in 'adquisicion_DAQ'",
     "output_type": "error",
     "traceback": [
      "\u001b[1;31m---------------------------------------------------------------------------\u001b[0m",
      "\u001b[1;31mTypeError\u001b[0m                                 Traceback (most recent call last)",
      "\u001b[1;32m~\\Anaconda3\\envs\\Pruebas\\lib\\site-packages\\lantz\\core\\feat.py\u001b[0m in \u001b[0;36m__set_name__\u001b[1;34m(self, owner, name)\u001b[0m\n\u001b[0;32m     95\u001b[0m     \u001b[1;32mdef\u001b[0m \u001b[0m__set_name__\u001b[0m\u001b[1;33m(\u001b[0m\u001b[0mself\u001b[0m\u001b[1;33m,\u001b[0m \u001b[0mowner\u001b[0m\u001b[1;33m,\u001b[0m \u001b[0mname\u001b[0m\u001b[1;33m)\u001b[0m\u001b[1;33m:\u001b[0m\u001b[1;33m\u001b[0m\u001b[1;33m\u001b[0m\u001b[0m\n\u001b[1;32m---> 96\u001b[1;33m         \u001b[0msuper\u001b[0m\u001b[1;33m(\u001b[0m\u001b[1;33m)\u001b[0m\u001b[1;33m.\u001b[0m\u001b[0m__set_name__\u001b[0m\u001b[1;33m(\u001b[0m\u001b[0mowner\u001b[0m\u001b[1;33m,\u001b[0m \u001b[0mname\u001b[0m\u001b[1;33m)\u001b[0m\u001b[1;33m\u001b[0m\u001b[1;33m\u001b[0m\u001b[0m\n\u001b[0m\u001b[0;32m     97\u001b[0m \u001b[1;33m\u001b[0m\u001b[0m\n",
      "\u001b[1;32m~\\Anaconda3\\envs\\Pruebas\\lib\\site-packages\\pimpmyclass\\props.py\u001b[0m in \u001b[0;36m__set_name__\u001b[1;34m(self, owner, name)\u001b[0m\n\u001b[0;32m    340\u001b[0m     \u001b[1;32mdef\u001b[0m \u001b[0m__set_name__\u001b[0m\u001b[1;33m(\u001b[0m\u001b[0mself\u001b[0m\u001b[1;33m,\u001b[0m \u001b[0mowner\u001b[0m\u001b[1;33m,\u001b[0m \u001b[0mname\u001b[0m\u001b[1;33m)\u001b[0m\u001b[1;33m:\u001b[0m\u001b[1;33m\u001b[0m\u001b[1;33m\u001b[0m\u001b[0m\n\u001b[1;32m--> 341\u001b[1;33m         \u001b[0mrequire\u001b[0m\u001b[1;33m(\u001b[0m\u001b[0mself\u001b[0m\u001b[1;33m,\u001b[0m \u001b[0mowner\u001b[0m\u001b[1;33m,\u001b[0m \u001b[0mname\u001b[0m\u001b[1;33m,\u001b[0m \u001b[0mLockMixin\u001b[0m\u001b[1;33m)\u001b[0m\u001b[1;33m\u001b[0m\u001b[1;33m\u001b[0m\u001b[0m\n\u001b[0m\u001b[0;32m    342\u001b[0m \u001b[1;33m\u001b[0m\u001b[0m\n",
      "\u001b[1;32m~\\Anaconda3\\envs\\Pruebas\\lib\\site-packages\\pimpmyclass\\helpers.py\u001b[0m in \u001b[0;36mrequire\u001b[1;34m(inst, owner, name, *parents)\u001b[0m\n\u001b[0;32m     64\u001b[0m             raise TypeError('%r is a %r but %r is not a subclass from %r as required' %\n\u001b[1;32m---> 65\u001b[1;33m                             (name, inst.__class__.__name__, owner.__name__, parent.__name__))\n\u001b[0m\u001b[0;32m     66\u001b[0m \u001b[1;33m\u001b[0m\u001b[0m\n",
      "\u001b[1;31mTypeError\u001b[0m: 'freq' is a 'Feat' but 'adquisicion_DAQ' is not a subclass from 'LockMixin' as required",
      "\nThe above exception was the direct cause of the following exception:\n",
      "\u001b[1;31mRuntimeError\u001b[0m                              Traceback (most recent call last)",
      "\u001b[1;32m<ipython-input-81-e019eb8a5180>\u001b[0m in \u001b[0;36m<module>\u001b[1;34m\u001b[0m\n\u001b[1;32m----> 1\u001b[1;33m \u001b[1;32mclass\u001b[0m \u001b[0madquisicion_DAQ\u001b[0m\u001b[1;33m(\u001b[0m\u001b[0mnidaqmx\u001b[0m\u001b[1;33m.\u001b[0m\u001b[0mTask\u001b[0m\u001b[1;33m,\u001b[0m\u001b[0mtipo\u001b[0m\u001b[1;33m=\u001b[0m\u001b[1;34m'Analog'\u001b[0m\u001b[1;33m)\u001b[0m\u001b[1;33m:\u001b[0m\u001b[1;33m\u001b[0m\u001b[1;33m\u001b[0m\u001b[0m\n\u001b[0m\u001b[0;32m      2\u001b[0m     \u001b[1;32mdef\u001b[0m \u001b[0m__init__\u001b[0m\u001b[1;33m(\u001b[0m\u001b[0mself\u001b[0m\u001b[1;33m,\u001b[0m\u001b[1;33m)\u001b[0m\u001b[1;33m:\u001b[0m\u001b[1;33m\u001b[0m\u001b[1;33m\u001b[0m\u001b[0m\n\u001b[0;32m      3\u001b[0m         \u001b[1;32mif\u001b[0m \u001b[0mtipo\u001b[0m \u001b[1;33m==\u001b[0m \u001b[1;34m'Analog'\u001b[0m\u001b[1;33m:\u001b[0m\u001b[1;33m\u001b[0m\u001b[1;33m\u001b[0m\u001b[0m\n\u001b[0;32m      4\u001b[0m             \u001b[1;31m# Por default se abre un canal en configuracion Differential\u001b[0m\u001b[1;33m\u001b[0m\u001b[1;33m\u001b[0m\u001b[1;33m\u001b[0m\u001b[0m\n\u001b[0;32m      5\u001b[0m             self.ai_channels.add_ai_voltage_chan('Dev1/ai0',\n",
      "\u001b[1;31mRuntimeError\u001b[0m: Error calling __set_name__ on 'Feat' instance 'freq' in 'adquisicion_DAQ'"
     ]
    }
   ],
   "source": [
    "class adquisicion_DAQ(nidaqmx.Task,tipo='Analog'):\n",
    "    def __init__(self,):\n",
    "        if tipo == 'Analog':\n",
    "            # Por default se abre un canal en configuracion Differential\n",
    "            self.ai_channels.add_ai_voltage_chan('Dev1/ai0',\n",
    "                                             terminal_config=nidaqmx.constants.TerminalConfiguration.DIFFERENTIAL)        \n",
    "    @Feat\n",
    "    def freq(self):\n",
    "        return task.timing.samp_clk_rate\n",
    "    @freq.setter\n",
    "    def timebase(self,freq):\n",
    "        # Se define una cantidad de samples de manera de poder medir 2 segundos en la frequencia definida\n",
    "        task.timing.cfg_samp_clk_timing(freq,samp_per_chan=np.floor(2*freq))\n",
    "\n",
    "    def adquisicion(self,time):\n",
    "        dt = np.divide(1,self.freq)\n",
    "        time_vector = np.arange(0,time,dt)\n",
    "        num_of_points = len(time_vector)  \n",
    "        data = self.read(number_of_samples_per_channel=num_of_points)\n",
    "        return (time_vector,np.asarray(data))\n",
    "\n",
    "        \n",
    "class Generador(MessageBasedDriver):\n",
    "#    def __init__(self,ID):\n",
    "#        self.obj_visa=rm.open_resource(ID)\n",
    "#        self.ID = ID\n",
    "\n",
    "    # Feats punciona como un property, pero ademas acepta otras opciones\n",
    "    @Feat()\n",
    "    def idn(self):\n",
    "        return self.query('*IDN?')\n",
    "\n",
    "    # La idea es no usar sets and gets como metodos, sino definir propiedades\n",
    "    def setFrequency(self,freq):\n",
    "        self.write(\"SOURce1:FREQuency:FIXed \"+str(freq))\n",
    "        \n",
    "  #  def setAmplitude(self,amp):\n",
    "  #      self.write(\"SOURce1:VOLTage:LEVel:IMMediate:AMPLitude \"+str(amp))\n",
    "    # Una manera comoda de unas Feats es con mfeats, donde directametne pasas el getter, el setter, las unidades y un limite para los valroes\n",
    "    amplitude = mfeats.QuantityFeat('SOURce1:VOLT:LEV:IMM:AMPL?','SOURce1:VOLT:LEV:IMM:AMPL {}',units='V',limits=(0.2,5))\n",
    "\n",
    "    def setWaveform(self,waveform ='Senoidal'):\n",
    "        switcher = {'Senoidal':\"SIN\",'Cuadrada':\"SQU\",'Pulso':\"PULS\"}\n",
    "        self.write(\"SOURce1:FUNCtion \"+switcher.get(waveform,'Senoidal'))  "
   ]
  },
  {
   "cell_type": "code",
   "execution_count": 37,
   "metadata": {},
   "outputs": [],
   "source": [
    "def sweepe(generador, osciloscopio, init_freq = 100, end_freq = 10100, cant_med = 100):\n",
    "    paso = np.floor(np.divide(end_freq - init_freq,cant_med))\n",
    "    values = np.zeros(cant_med)\n",
    "    freqs = np.add(np.multiply(np.arange(cant_med), paso), init_freq)\n",
    "    magni = generador.amplitude.magnitude\n",
    "    valor = np.ceil(2.0 * magni / 8.0)\n",
    "    print(valor)\n",
    "    osciloscopio.vertical_scale = Q_(valor,'V')\n",
    "    \n",
    "    for i,freq in enumerate(freqs):\n",
    "        periodo = np.divide(1,freq)\n",
    "        # Como en el Feats definimos las unidades, al setearlo debemos escribirlo con que unidades le estamso mandando\n",
    "        osciloscopio.timebase = Q_(0.1 * periodo * 4, 's')\n",
    "        # Escribir Generador\n",
    "        generador.setFrequency(freq)\n",
    "        # Esperamos a que se setee y lea bien\n",
    "        time.sleep(1)\n",
    "        # Consulta Osciloscopio\n",
    "        values[i] = osci.vpp()\n",
    "    return freqs, values"
   ]
  },
  {
   "cell_type": "code",
   "execution_count": 78,
   "metadata": {},
   "outputs": [
    {
     "name": "stdout",
     "output_type": "stream",
     "text": [
      "0.0002\n",
      "500\n",
      "500\n",
      "5000.0\n"
     ]
    }
   ],
   "source": [
    "time = 0.1\n",
    "freq = 5000\n",
    "nsamples = 2000\n",
    "\n",
    "with nidaqmx.Task() as task:\n",
    "    task.ai_channels.add_ai_voltage_chan('Dev1/ai0',\n",
    "                                         terminal_config=nidaqmx.constants.TerminalConfiguration.DIFFERENTIAL)\n",
    "    task.timing.cfg_samp_clk_timing(freq,samps_per_chan=nsamples)\n",
    "    (tiempos,data) = adquisicion(task,time,freq)\n",
    "#    task.write([1.1, 2.2, 3.3, 4.4, 5.5], auto_start=True)\n",
    "    print(task.timing.samp_clk_rate)"
   ]
  },
  {
   "cell_type": "code",
   "execution_count": 64,
   "metadata": {},
   "outputs": [
    {
     "data": {
      "text/plain": [
       "(0, 0.1)"
      ]
     },
     "execution_count": 64,
     "metadata": {},
     "output_type": "execute_result"
    },
    {
     "data": {
      "image/png": "[encoded data removed]",
      "text/plain": [
       "<Figure size 432x288 with 1 Axes>"
      ]
     },
     "metadata": {
      "needs_background": "light"
     },
     "output_type": "display_data"
    }
   ],
   "source": [
    "plt.plot(tiempos,data)  \n",
    "plt.xlim(0,0.1)"
   ]
  },
  {
   "cell_type": "code",
   "execution_count": 79,
   "metadata": {},
   "outputs": [
    {
     "ename": "NameError",
     "evalue": "name 'adquisicion_DAQ' is not defined",
     "output_type": "error",
     "traceback": [
      "\u001b[1;31m---------------------------------------------------------------------------\u001b[0m",
      "\u001b[1;31mNameError\u001b[0m                                 Traceback (most recent call last)",
      "\u001b[1;32m<ipython-input-79-52448ac556d3>\u001b[0m in \u001b[0;36m<module>\u001b[1;34m\u001b[0m\n\u001b[0;32m      1\u001b[0m \u001b[1;31m#placa_adquisiscion = adquisicion_DAQ()\u001b[0m\u001b[1;33m\u001b[0m\u001b[1;33m\u001b[0m\u001b[1;33m\u001b[0m\u001b[0m\n\u001b[1;32m----> 2\u001b[1;33m \u001b[1;32mwith\u001b[0m \u001b[0madquisicion_DAQ\u001b[0m\u001b[1;33m(\u001b[0m\u001b[1;33m)\u001b[0m \u001b[1;32mas\u001b[0m \u001b[0mplaca\u001b[0m\u001b[1;33m:\u001b[0m\u001b[1;33m\u001b[0m\u001b[1;33m\u001b[0m\u001b[0m\n\u001b[0m\u001b[0;32m      3\u001b[0m     \u001b[0mplaca\u001b[0m\u001b[1;33m.\u001b[0m\u001b[0mfreq\u001b[0m \u001b[1;33m=\u001b[0m \u001b[1;36m5000\u001b[0m\u001b[1;33m\u001b[0m\u001b[1;33m\u001b[0m\u001b[0m\n\u001b[0;32m      4\u001b[0m     \u001b[0mprint\u001b[0m\u001b[1;33m(\u001b[0m\u001b[0mplaca\u001b[0m\u001b[1;33m.\u001b[0m\u001b[0mfreq\u001b[0m\u001b[1;33m)\u001b[0m\u001b[1;33m\u001b[0m\u001b[1;33m\u001b[0m\u001b[0m\n\u001b[0;32m      5\u001b[0m \u001b[1;33m\u001b[0m\u001b[0m\n",
      "\u001b[1;31mNameError\u001b[0m: name 'adquisicion_DAQ' is not defined"
     ]
    }
   ],
   "source": [
    "#placa_adquisiscion = adquisicion_DAQ()\n",
    "with adquisicion_DAQ() as placa:\n",
    "    placa.freq = 5000\n",
    "    print(placa.freq)\n",
    "    \n",
    "    \n",
    "    "
   ]
  },
  {
   "cell_type": "code",
   "execution_count": null,
   "metadata": {},
   "outputs": [],
   "source": []
  }
 ],
 "metadata": {
  "kernelspec": {
   "display_name": "Python 3",
   "language": "python",
   "name": "python3"
  },
  "language_info": {
   "codemirror_mode": {
    "name": "ipython",
    "version": 3
   },
   "file_extension": ".py",
   "mimetype": "text/x-python",
   "name": "python",
   "nbconvert_exporter": "python",
   "pygments_lexer": "ipython3",
   "version": "3.7.0"
  }
 },
 "nbformat": 4,
 "nbformat_minor": 2
}
