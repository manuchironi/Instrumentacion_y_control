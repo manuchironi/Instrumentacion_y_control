{
 "cells": [
  {
   "cell_type": "code",
   "execution_count": 1,
   "metadata": {},
   "outputs": [],
   "source": [
    "import numpy as np\n",
    "import visa\n",
    "import matplotlib.pyplot as plt\n",
    "import time\n",
    "from lantz import MessageBasedDriver, Q_\n",
    "from lantz.core import Feat\n",
    "from lantz.core import mfeats\n",
    "from lantz import ureg\n",
    "import sounddevice as sd\n",
    "from scipy import signal as sg"
   ]
  },
  {
   "cell_type": "code",
   "execution_count": 2,
   "metadata": {},
   "outputs": [],
   "source": [
    "class Generador(MessageBasedDriver):\n",
    "#    def __init__(self,ID):\n",
    "#        self.obj_visa=rm.open_resource(ID)\n",
    "#        self.ID = ID\n",
    "    set_query = MessageBasedDriver.write\n",
    "    # Feats punciona como un property, pero ademas acepta otras opciones\n",
    "    @Feat()\n",
    "    def idn(self):\n",
    "        return self.query('*IDN?')\n",
    "\n",
    "    # La idea es no usar sets and gets como metodos, sino definir propiedades\n",
    "        \n",
    "    frequency = mfeats.QuantityFeat('SOURce1:FREQuency:FIXed?','SOURce1:FREQuency:FIXed {}',units='Hz',limits=(0.0,1000000))\n",
    "    amplitude = mfeats.QuantityFeat('SOURce1:VOLT:LEV:IMM:AMPL?','SOURce1:VOLT:LEV:IMM:AMPL {}',units='V',limits=(0.05,5))\n",
    "    offset = mfeats.QuantityFeat('SOURce1:VOLT:LEV:IMM:OFFS?','SOURce1:VOLT:LEV:IMM:OFFS {}',units='V',limits=(0,10))\n",
    "        \n",
    "    def setWaveform(self,waveform ='Senoidal'):\n",
    "        switcher = {'Senoidal':\"SIN\",'Cuadrada':\"SQU\",'Pulso':\"PULS\"}\n",
    "        self.write(\"SOURce1:FUNCtion \"+switcher.get(waveform,'Senoidal'))  \n",
    "\n",
    "        \n",
    "class Osciloscopio(MessageBasedDriver):\n",
    "\n",
    "    set_query = MessageBasedDriver.write\n",
    "    \n",
    "    @Feat()\n",
    "    def idn(self):\n",
    "        return self.query('*IDN?')\n",
    "\n",
    "    timebase = mfeats.QuantityFeat('HORizontal:MAIN:SCALe?','HORizontal:MAIN:SCALe {}',units='s')\n",
    "    vertical_scale = mfeats.QuantityFeat('CH1:SCA?','CH1:SCA {}',units='V')\n",
    "\n",
    "    def vpp(self):\n",
    "        osci.write('MEASUrement:IMMed:TYPE PK2pk')\n",
    "        return float(osci.query('MEASUREMENT:IMMed:VALue?'))\n",
    "\n",
    "    def mean(self):\n",
    "        osci.write('MEASUrement:IMMed:TYPE MEAN')\n",
    "        return float(osci.query('MEASUREMENT:IMMed:VALue?')) \n",
    "    \n",
    "    @Feat()\n",
    "    def capturaPantalla(self):\n",
    " #       if self.parameters is None:\n",
    "        YOFF_in_dl = float(self.query(\"WFMP:YOFF?\"))\n",
    "        YZERO_in_YUNits = float(self.query(\"WFMP:YZERO?\"))\n",
    "        YMUlt = float(self.query(\"WFMP:YMULT?\"))\n",
    "        print(YOFF_in_dl,YZERO_in_YUNits,YMUlt)\n",
    "     #   self.parameters = (YOFF_in_dl,YZERO_in_YUNits,YMUlt)\n",
    "      #  (YOFF_in_dl , YZERO_in_YUNits , YMUlt) = self.parameters\n",
    "        curve_in_dl = np.array(self.query('CURV?'))#, datatype='b', is_big_endian=True))\n",
    "        valores = ((curve_in_dl - YOFF_in_dl)*YMUlt)+YZERO_in_YUNits\n",
    "        intervalo = float(osci.query('WFMPre:XINcr?'))\n",
    "        tiempos = np.arange(len(valores))*intervalo\n",
    "        return tiempos, valores"
   ]
  },
  {
   "cell_type": "code",
   "execution_count": 3,
   "metadata": {},
   "outputs": [
    {
     "data": {
      "text/plain": [
       "('USB0::0x0699::0x0363::C065092::INSTR',)"
      ]
     },
     "execution_count": 3,
     "metadata": {},
     "output_type": "execute_result"
    }
   ],
   "source": [
    "rm = visa.ResourceManager()\n",
    "ID=rm.list_resources()\n",
    "genf = Generador(ID[0])\n",
    "#osci = Osciloscopio(ID[1])\n",
    "ID"
   ]
  },
  {
   "cell_type": "code",
   "execution_count": 4,
   "metadata": {},
   "outputs": [],
   "source": [
    "def Senoidal(Offs,Ampl,Freq,nPeriods):\n",
    "    n=nPeriods\n",
    "    SR = sd.default.samplerate\n",
    "    t = np.linspace(0,n*np.divide(1,Freq),n*int(np.divide(SR,Freq)),endpoint=False) # valores de tiempo que van a ser barridos.\n",
    "    return t,np.divide(Ampl*np.sin(2*np.pi*Freq*t)+Offs,1.6)\n",
    "\n",
    "def Cuadrada(Offs,Ampl,Freq):\n",
    "    n=1 # Num de periodos fijo\n",
    "    SR = sd.default.samplerate\n",
    "    t = np.linspace(0,n*np.divide(1,Freq),n*int(np.divide(SR,Freq)),endpoint=False) # valores de tiempo que van a ser barridos.\n",
    "    lista = []\n",
    "    for i in t:\n",
    "        if i<np.divide(1,2*Freq):\n",
    "            lista.append(-1)\n",
    "        else:\n",
    "            lista.append(1)\n",
    "    salida = np.asarray(lista)   \n",
    "    return t,np.divide(Ampl*salida+Offs,1.6)\n",
    "\n",
    "def Squared(Offs,Ampl,Freq,nPeriods):\n",
    "    n=nPeriods\n",
    "    SR = sd.default.samplerate\n",
    "    t = np.linspace(0,n*np.divide(1,Freq),n*int(np.divide(SR,Freq)),endpoint=False) # valores de tiempo que van a ser barridos.\n",
    "    return t,np.divide(Ampl*sg.square(2*np.pi*Freq*t)+Offs,1.6)    \n",
    "    \n",
    "\n",
    "def PlaySin(Ampl,Freq,Time):\n",
    "    t,y=Senoidal(Ampl,Freq,1)\n",
    "    sd.play(y,loop=True)\n",
    "    time.sleep(Time)\n",
    "    sd.stop()"
   ]
  },
  {
   "cell_type": "code",
   "execution_count": 5,
   "metadata": {},
   "outputs": [],
   "source": [
    "sd.default.samplerate=11025\n",
    "sd.default.latency = ['high','high']"
   ]
  },
  {
   "cell_type": "code",
   "execution_count": 49,
   "metadata": {},
   "outputs": [
    {
     "data": {
      "image/png": "[encoded data removed]",
      "text/plain": [
       "<Figure size 432x288 with 1 Axes>"
      ]
     },
     "metadata": {
      "needs_background": "light"
     },
     "output_type": "display_data"
    }
   ],
   "source": [
    "Freq = 1000\n",
    "#t,y=Senoidal(0,01.6,Freq,1)\n",
    "t,y=Squared(0,1,Freq,1)\n",
    "#t,y=Cuadrada(0,1,Freq)\n",
    "plt.plot(t,y,'-')\n",
    "\n",
    "sd.play(y,loop=True)"
   ]
  },
  {
   "cell_type": "code",
   "execution_count": 8,
   "metadata": {},
   "outputs": [
    {
     "data": {
      "text/plain": [
       "  0 Asignador de sonido Microsoft - Input, MME (2 in, 0 out)\n",
       "> 1 Micrófono (Dispositivo de High , MME (2 in, 0 out)\n",
       "  2 Asignador de sonido Microsoft - Output, MME (0 in, 2 out)\n",
       "< 3 Auriculares (Dispositivo de Hig, MME (0 in, 2 out)\n",
       "  4 Altavoces (Dispositivo de High , MME (0 in, 2 out)\n",
       "  5 Headphones (Auricular de HD Audio), Windows WDM-KS (0 in, 2 out)\n",
       "  6 Micrófono (Micrófono de HD Audio), Windows WDM-KS (2 in, 0 out)\n",
       "  7 Speakers (Altavoz de HD Audio), Windows WDM-KS (0 in, 2 out)"
      ]
     },
     "execution_count": 8,
     "metadata": {},
     "output_type": "execute_result"
    }
   ],
   "source": [
    "sd.query_devices()"
   ]
  },
  {
   "cell_type": "code",
   "execution_count": 12,
   "metadata": {},
   "outputs": [],
   "source": [
    "sd.stop()"
   ]
  },
  {
   "cell_type": "code",
   "execution_count": 24,
   "metadata": {},
   "outputs": [],
   "source": [
    "sd.default.device = [4,5]"
   ]
  },
  {
   "cell_type": "code",
   "execution_count": 8,
   "metadata": {},
   "outputs": [],
   "source": [
    "Freq = 1000\n",
    "N=10000\n",
    "t,y=Senoidal(0,.5,Freq,1)\n",
    "#sd.play(y,loop=True)\n",
    "#myrecording = sd.playrec(y, channels=2,blocking=True)\n",
    "#time.sleep(2)\n",
    "myrecording = sd.rec(N,channels=2,blocking=True)\n",
    "#time.sleep(15)\n",
    "ch1=np.asarray([i[0] for i in myrecording])\n",
    "ch2=np.asarray([i[1] for i in myrecording])\n",
    "tiempo = np.divide(np.arange(len(ch1)),sd.default.samplerate)\n"
   ]
  },
  {
   "cell_type": "code",
   "execution_count": 11,
   "metadata": {},
   "outputs": [
    {
     "data": {
      "text/plain": [
       "(0, 4000)"
      ]
     },
     "execution_count": 11,
     "metadata": {},
     "output_type": "execute_result"
    },
    {
     "data": {
      "image/png": "[encoded data removed]",
      "text/plain": [
       "<Figure size 432x288 with 1 Axes>"
      ]
     },
     "metadata": {
      "needs_background": "light"
     },
     "output_type": "display_data"
    }
   ],
   "source": [
    "plt.plot(ch1,'.',markersize=6)\n",
    "plt.plot(ch2,'.',markersize=6)\n",
    "#plt.plot(medicion)\n",
    "#plt.plot((ch1),'.',markersize=4)\n",
    "#plt.plot((ch2),'.',markersize=4)\n",
    "plt.xlim(0,4000)\n",
    "#plt.ylim(0.06,.08)"
   ]
  },
  {
   "cell_type": "code",
   "execution_count": null,
   "metadata": {},
   "outputs": [],
   "source": [
    "Estabamos  tratando de forzar la señal d"
   ]
  }
 ],
 "metadata": {
  "kernelspec": {
   "display_name": "Python 3",
   "language": "python",
   "name": "python3"
  },
  "language_info": {
   "codemirror_mode": {
    "name": "ipython",
    "version": 3
   },
   "file_extension": ".py",
   "mimetype": "text/x-python",
   "name": "python",
   "nbconvert_exporter": "python",
   "pygments_lexer": "ipython3",
   "version": "3.7.3"
  }
 },
 "nbformat": 4,
 "nbformat_minor": 2
}
