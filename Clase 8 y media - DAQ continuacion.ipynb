{
 "cells": [
  {
   "cell_type": "code",
   "execution_count": 1,
   "metadata": {},
   "outputs": [],
   "source": [
    "import nidaqmx \n",
    "import numpy as np\n",
    "import matplotlib.pyplot as plt\n",
    "import visa\n",
    "import time\n",
    "from lantz import MessageBasedDriver, Q_\n",
    "from lantz.core import Feat\n",
    "from lantz.core import mfeats\n",
    "from lantz import ureg"
   ]
  },
  {
   "cell_type": "code",
   "execution_count": 2,
   "metadata": {},
   "outputs": [],
   "source": [
    "def adquisicion(task,time,freq):\n",
    "    dt = np.divide(1,freq)\n",
    "   # print(dt)\n",
    "    time_vector = np.arange(0,time,dt)\n",
    "   # print(len(time_vector))\n",
    "    num_of_points = len(time_vector)  \n",
    "    data = task.read(number_of_samples_per_channel=num_of_points)\n",
    "   # print(len(data))\n",
    "    return (time_vector,np.asarray(data))"
   ]
  },
  {
   "cell_type": "code",
   "execution_count": 3,
   "metadata": {},
   "outputs": [],
   "source": [
    "class Generador(MessageBasedDriver):\n",
    "\n",
    "    set_query = MessageBasedDriver.write\n",
    "\n",
    "    @Feat()\n",
    "    def idn(self):\n",
    "        return self.query('*IDN?')\n",
    "    \n",
    "    frequency = mfeats.QuantityFeat('SOURce1:FREQuency:FIXed?','SOURce1:FREQuency:FIXed {}',units='Hz',limits=(0.0,1000000))\n",
    "    amplitude = mfeats.QuantityFeat('SOURce1:VOLT:LEV:IMM:AMPL?','SOURce1:VOLT:LEV:IMM:AMPL {}',units='V',limits=(0.05,5))\n",
    "        \n",
    "    def setWaveform(self,waveform ='Senoidal'):\n",
    "        switcher = {'Senoidal':\"SIN\",'Cuadrada':\"SQU\",'Pulso':\"PULS\"}\n",
    "        self.write(\"SOURce1:FUNCtion \"+switcher.get(waveform,'Senoidal'))  "
   ]
  },
  {
   "cell_type": "code",
   "execution_count": 4,
   "metadata": {},
   "outputs": [],
   "source": [
    "def sweepe(gener,init_freq = 100, end_freq = 10100, cant_med = 100):\n",
    "    with gener as generador:\n",
    "        paso = np.floor(np.divide(end_freq - init_freq,cant_med))\n",
    "        values = np.zeros(cant_med)\n",
    "        freqs = np.add(np.multiply(np.arange(cant_med), paso), init_freq)\n",
    "        for i,freq in enumerate(freqs):\n",
    "            periodo = np.divide(1,freq)\n",
    "        # Escribir Generador\n",
    "            generador.frequency= freq*ureg.hertz\n",
    "            print(freq)\n",
    "        # Esperamos a que se setee y lea bien\n",
    "            time.sleep(1)\n",
    "\n",
    "            time_med = .5\n",
    "            samplefreq = 5000\n",
    "            nsamples = 5000\n",
    "            with nidaqmx.Task() as task:\n",
    "                task.ai_channels.add_ai_voltage_chan('Dev1/ai0',\n",
    "                                                     terminal_config=nidaqmx.constants.TerminalConfiguration.DIFFERENTIAL)\n",
    "                task.timing.cfg_samp_clk_timing(samplefreq,samps_per_chan=nsamples)\n",
    "                (tiempos,data) = adquisicion(task,time_med,samplefreq)\n",
    "\n",
    "            espectro = plt.magnitude_spectrum(data, Fs=samplefreq, window=np.ones(data.shape))\n",
    "            max_index = espectro[0].argmax()\n",
    "            max_freq = espectro[1][max_index]\n",
    "            \n",
    "            values[i] = max_freq\n",
    "    return freqs, values"
   ]
  },
  {
   "cell_type": "code",
   "execution_count": 25,
   "metadata": {},
   "outputs": [
    {
     "name": "stdout",
     "output_type": "stream",
     "text": [
      "AcquisitionType.CONTINUOUS\n",
      "10000.0\n"
     ]
    }
   ],
   "source": [
    "time = 1\n",
    "freq = 10000\n",
    "nsamples = 2000\n",
    "\n",
    "with nidaqmx.Task() as task:\n",
    "    task.ai_channels.add_ai_voltage_chan('Dev1/ai0:3',\n",
    "                                         terminal_config=nidaqmx.constants.TerminalConfiguration.DIFFERENTIAL)\n",
    "    task.timing.cfg_samp_clk_timing(freq,sample_mode=nidaqmx.constants.AcquisitionType.CONTINUOUS,samps_per_chan=nsamples)\n",
    "    print(task.timing.samp_quant_samp_mode)\n",
    "    (tiempos,data) = adquisicion(task,time,freq)\n",
    "#    task.write([1.1, 2.2, 3.3, 4.4, 5.5], auto_start=True)\n",
    "    print(task.timing.samp_clk_rate)  "
   ]
  },
  {
   "cell_type": "code",
   "execution_count": 34,
   "metadata": {},
   "outputs": [
    {
     "name": "stdout",
     "output_type": "stream",
     "text": [
      "4\n"
     ]
    },
    {
     "data": {
      "text/plain": [
       "Text(0, 0.5, 'Tensión [V]')"
      ]
     },
     "execution_count": 34,
     "metadata": {},
     "output_type": "execute_result"
    },
    {
     "data": {
      "image/png": "[encoded data removed]",
      "text/plain": [
       "<Figure size 432x288 with 1 Axes>"
      ]
     },
     "metadata": {
      "needs_background": "light"
     },
     "output_type": "display_data"
    }
   ],
   "source": [
    "print(len(data))\n",
    "plt.plot(np.multiply(tiempos,1000),data[0],'.')  \n",
    "plt.plot(np.multiply(tiempos,1000),data[3],'.')\n",
    "plt.xlim(0.004*1000,.006*1000)  \n",
    "plt.ylim(2,3.1)  \n",
    "plt.xlabel('Tiempo [ms]')\n",
    "plt.ylabel('Tensión [V]')"
   ]
  },
  {
   "cell_type": "code",
   "execution_count": 21,
   "metadata": {},
   "outputs": [
    {
     "data": {
      "text/plain": [
       "0.7589953791297539"
      ]
     },
     "execution_count": 21,
     "metadata": {},
     "output_type": "execute_result"
    }
   ],
   "source": [
    "data[0][10]"
   ]
  },
  {
   "cell_type": "code",
   "execution_count": 22,
   "metadata": {},
   "outputs": [
    {
     "data": {
      "text/plain": [
       "0.7619769596240422"
      ]
     },
     "execution_count": 22,
     "metadata": {},
     "output_type": "execute_result"
    }
   ],
   "source": [
    "data[3][10]"
   ]
  },
  {
   "cell_type": "code",
   "execution_count": 32,
   "metadata": {},
   "outputs": [],
   "source": [
    "np.savetxt('C:/Users/usuario/Documents/GitHub/Instrumentacion_y_control/Informe_2/Datos/Retardo_dos_canales_sampleo_senal_3V_1kHz.txt',(tiempos,data[0],data[3]))"
   ]
  },
  {
   "cell_type": "markdown",
   "metadata": {},
   "source": [
    "Ahora vamos a hacer un barrido para ver si el salto se mantiene o fluctúa en el tiempo. Para esta medición usamos una señal triangular de 3 V pico, con una frecuencia de 5 Hz."
   ]
  },
  {
   "cell_type": "code",
   "execution_count": 61,
   "metadata": {},
   "outputs": [
    {
     "name": "stdout",
     "output_type": "stream",
     "text": [
      "100\n",
      "200\n",
      "300\n",
      "400\n",
      "500\n",
      "600\n",
      "700\n",
      "800\n",
      "900\n",
      "1000\n",
      "1100\n",
      "1200\n",
      "1300\n",
      "1400\n",
      "1500\n",
      "1600\n",
      "1700\n",
      "1800\n",
      "1900\n",
      "2000\n",
      "2100\n",
      "2200\n",
      "2300\n",
      "2400\n",
      "2500\n",
      "2600\n",
      "2700\n",
      "2800\n",
      "2900\n",
      "3000\n",
      "3100\n",
      "3200\n",
      "3300\n",
      "3400\n",
      "3500\n",
      "3600\n",
      "3700\n",
      "3800\n",
      "3900\n",
      "4000\n",
      "4100\n",
      "4200\n"
     ]
    },
    {
     "ename": "KeyboardInterrupt",
     "evalue": "",
     "output_type": "error",
     "traceback": [
      "\u001b[1;31m---------------------------------------------------------------------------\u001b[0m",
      "\u001b[1;31mKeyboardInterrupt\u001b[0m                         Traceback (most recent call last)",
      "\u001b[1;32m<ipython-input-61-eda5fb3af14c>\u001b[0m in \u001b[0;36m<module>\u001b[1;34m\u001b[0m\n\u001b[0;32m     12\u001b[0m         \u001b[1;31m#print(task.timing.samp_quant_samp_mode)\u001b[0m\u001b[1;33m\u001b[0m\u001b[1;33m\u001b[0m\u001b[1;33m\u001b[0m\u001b[0m\n\u001b[0;32m     13\u001b[0m         \u001b[1;33m(\u001b[0m\u001b[0mtiempos\u001b[0m\u001b[1;33m,\u001b[0m\u001b[0mdata\u001b[0m\u001b[1;33m)\u001b[0m \u001b[1;33m=\u001b[0m \u001b[0madquisicion\u001b[0m\u001b[1;33m(\u001b[0m\u001b[0mtask\u001b[0m\u001b[1;33m,\u001b[0m\u001b[0mmeasure_time\u001b[0m\u001b[1;33m,\u001b[0m\u001b[0mfreq\u001b[0m\u001b[1;33m)\u001b[0m\u001b[1;33m\u001b[0m\u001b[1;33m\u001b[0m\u001b[0m\n\u001b[1;32m---> 14\u001b[1;33m         \u001b[1;33m(\u001b[0m\u001b[0mtiempos2\u001b[0m\u001b[1;33m,\u001b[0m\u001b[0mdata2\u001b[0m\u001b[1;33m)\u001b[0m \u001b[1;33m=\u001b[0m \u001b[0madquisicion\u001b[0m\u001b[1;33m(\u001b[0m\u001b[0mtask\u001b[0m\u001b[1;33m,\u001b[0m\u001b[0mmeasure_time\u001b[0m\u001b[1;33m,\u001b[0m\u001b[0mfreq\u001b[0m\u001b[1;33m)\u001b[0m\u001b[1;33m\u001b[0m\u001b[1;33m\u001b[0m\u001b[0m\n\u001b[0m\u001b[0;32m     15\u001b[0m     \u001b[1;31m#    task.write([1.1, 2.2, 3.3, 4.4, 5.5], auto_start=True)\u001b[0m\u001b[1;33m\u001b[0m\u001b[1;33m\u001b[0m\u001b[1;33m\u001b[0m\u001b[0m\n\u001b[0;32m     16\u001b[0m         \u001b[1;32mif\u001b[0m \u001b[1;33m(\u001b[0m\u001b[1;33m(\u001b[0m\u001b[0mdata\u001b[0m\u001b[1;33m[\u001b[0m\u001b[1;33m-\u001b[0m\u001b[1;36m1\u001b[0m\u001b[1;33m]\u001b[0m\u001b[1;33m-\u001b[0m\u001b[0mdata\u001b[0m\u001b[1;33m[\u001b[0m\u001b[1;33m-\u001b[0m\u001b[1;36m2\u001b[0m\u001b[1;33m]\u001b[0m\u001b[1;33m)\u001b[0m\u001b[1;33m*\u001b[0m\u001b[1;33m(\u001b[0m\u001b[0mdata2\u001b[0m\u001b[1;33m[\u001b[0m\u001b[1;36m1\u001b[0m\u001b[1;33m]\u001b[0m\u001b[1;33m-\u001b[0m\u001b[0mdata2\u001b[0m\u001b[1;33m[\u001b[0m\u001b[1;36m0\u001b[0m\u001b[1;33m]\u001b[0m\u001b[1;33m)\u001b[0m\u001b[1;33m)\u001b[0m\u001b[1;33m>\u001b[0m\u001b[1;36m0\u001b[0m\u001b[1;33m:\u001b[0m\u001b[1;33m\u001b[0m\u001b[1;33m\u001b[0m\u001b[0m\n",
      "\u001b[1;32m<ipython-input-2-c55db2de3ee6>\u001b[0m in \u001b[0;36madquisicion\u001b[1;34m(task, time, freq)\u001b[0m\n\u001b[0;32m      5\u001b[0m    \u001b[1;31m# print(len(time_vector))\u001b[0m\u001b[1;33m\u001b[0m\u001b[1;33m\u001b[0m\u001b[1;33m\u001b[0m\u001b[0m\n\u001b[0;32m      6\u001b[0m     \u001b[0mnum_of_points\u001b[0m \u001b[1;33m=\u001b[0m \u001b[0mlen\u001b[0m\u001b[1;33m(\u001b[0m\u001b[0mtime_vector\u001b[0m\u001b[1;33m)\u001b[0m\u001b[1;33m\u001b[0m\u001b[1;33m\u001b[0m\u001b[0m\n\u001b[1;32m----> 7\u001b[1;33m     \u001b[0mdata\u001b[0m \u001b[1;33m=\u001b[0m \u001b[0mtask\u001b[0m\u001b[1;33m.\u001b[0m\u001b[0mread\u001b[0m\u001b[1;33m(\u001b[0m\u001b[0mnumber_of_samples_per_channel\u001b[0m\u001b[1;33m=\u001b[0m\u001b[0mnum_of_points\u001b[0m\u001b[1;33m)\u001b[0m\u001b[1;33m\u001b[0m\u001b[1;33m\u001b[0m\u001b[0m\n\u001b[0m\u001b[0;32m      8\u001b[0m    \u001b[1;31m# print(len(data))\u001b[0m\u001b[1;33m\u001b[0m\u001b[1;33m\u001b[0m\u001b[1;33m\u001b[0m\u001b[0m\n\u001b[0;32m      9\u001b[0m     \u001b[1;32mreturn\u001b[0m \u001b[1;33m(\u001b[0m\u001b[0mtime_vector\u001b[0m\u001b[1;33m,\u001b[0m\u001b[0mnp\u001b[0m\u001b[1;33m.\u001b[0m\u001b[0masarray\u001b[0m\u001b[1;33m(\u001b[0m\u001b[0mdata\u001b[0m\u001b[1;33m)\u001b[0m\u001b[1;33m)\u001b[0m\u001b[1;33m\u001b[0m\u001b[1;33m\u001b[0m\u001b[0m\n",
      "\u001b[1;32m~\\Anaconda3\\envs\\Pruebas\\lib\\site-packages\\nidaqmx\\task.py\u001b[0m in \u001b[0;36mread\u001b[1;34m(self, number_of_samples_per_channel, timeout)\u001b[0m\n\u001b[0;32m    627\u001b[0m             \u001b[0mdata\u001b[0m \u001b[1;33m=\u001b[0m \u001b[0mnumpy\u001b[0m\u001b[1;33m.\u001b[0m\u001b[0mzeros\u001b[0m\u001b[1;33m(\u001b[0m\u001b[0marray_shape\u001b[0m\u001b[1;33m,\u001b[0m \u001b[0mdtype\u001b[0m\u001b[1;33m=\u001b[0m\u001b[0mnumpy\u001b[0m\u001b[1;33m.\u001b[0m\u001b[0mfloat64\u001b[0m\u001b[1;33m)\u001b[0m\u001b[1;33m\u001b[0m\u001b[1;33m\u001b[0m\u001b[0m\n\u001b[0;32m    628\u001b[0m             samples_read = _read_analog_f_64(\n\u001b[1;32m--> 629\u001b[1;33m                 self._handle, data, number_of_samples_per_channel, timeout)\n\u001b[0m\u001b[0;32m    630\u001b[0m \u001b[1;33m\u001b[0m\u001b[0m\n\u001b[0;32m    631\u001b[0m         \u001b[1;31m# Digital Input or Digital Output\u001b[0m\u001b[1;33m\u001b[0m\u001b[1;33m\u001b[0m\u001b[1;33m\u001b[0m\u001b[0m\n",
      "\u001b[1;32m~\\Anaconda3\\envs\\Pruebas\\lib\\site-packages\\nidaqmx\\_task_modules\\read_functions.py\u001b[0m in \u001b[0;36m_read_analog_f_64\u001b[1;34m(task_handle, read_array, num_samps_per_chan, timeout, fill_mode)\u001b[0m\n\u001b[0;32m     32\u001b[0m         \u001b[0mtask_handle\u001b[0m\u001b[1;33m,\u001b[0m \u001b[0mnum_samps_per_chan\u001b[0m\u001b[1;33m,\u001b[0m \u001b[0mtimeout\u001b[0m\u001b[1;33m,\u001b[0m \u001b[0mfill_mode\u001b[0m\u001b[1;33m.\u001b[0m\u001b[0mvalue\u001b[0m\u001b[1;33m,\u001b[0m\u001b[1;33m\u001b[0m\u001b[1;33m\u001b[0m\u001b[0m\n\u001b[0;32m     33\u001b[0m         \u001b[0mread_array\u001b[0m\u001b[1;33m,\u001b[0m \u001b[0mnumpy\u001b[0m\u001b[1;33m.\u001b[0m\u001b[0mprod\u001b[0m\u001b[1;33m(\u001b[0m\u001b[0mread_array\u001b[0m\u001b[1;33m.\u001b[0m\u001b[0mshape\u001b[0m\u001b[1;33m)\u001b[0m\u001b[1;33m,\u001b[0m\u001b[1;33m\u001b[0m\u001b[1;33m\u001b[0m\u001b[0m\n\u001b[1;32m---> 34\u001b[1;33m         ctypes.byref(samps_per_chan_read), None)\n\u001b[0m\u001b[0;32m     35\u001b[0m     \u001b[0mcheck_for_error\u001b[0m\u001b[1;33m(\u001b[0m\u001b[0merror_code\u001b[0m\u001b[1;33m)\u001b[0m\u001b[1;33m\u001b[0m\u001b[1;33m\u001b[0m\u001b[0m\n\u001b[0;32m     36\u001b[0m \u001b[1;33m\u001b[0m\u001b[0m\n",
      "\u001b[1;31mKeyboardInterrupt\u001b[0m: "
     ]
    }
   ],
   "source": [
    "measure_time = 0.1\n",
    "freq = 45000\n",
    "nsamples = 4500\n",
    "num_trials = 10000\n",
    "saltos_tension = []\n",
    "\n",
    "while len(saltos_tension)<num_trials:\n",
    "    with nidaqmx.Task() as task:\n",
    "        task.ai_channels.add_ai_voltage_chan('Dev1/ai3',\n",
    "                                             terminal_config=nidaqmx.constants.TerminalConfiguration.DIFFERENTIAL)\n",
    "        task.timing.cfg_samp_clk_timing(freq,samps_per_chan=nsamples)\n",
    "        #print(task.timing.samp_quant_samp_mode)\n",
    "        (tiempos,data) = adquisicion(task,measure_time,freq)\n",
    "        (tiempos2,data2) = adquisicion(task,measure_time,freq)\n",
    "    #    task.write([1.1, 2.2, 3.3, 4.4, 5.5], auto_start=True)\n",
    "        if ((data[-1]-data[-2])*(data2[1]-data2[0]))>0:\n",
    "            salto = data2[0]-data[-1]\n",
    "            saltos_tension.append(np.abs(salto))\n",
    "            if (len(saltos_tension)%100==0):\n",
    "                print(len(saltos_tension))\n",
    "        #print(task.timing.samp_clk_rate)\n",
    "\n",
    "#plt.plot(tiempos,data)  \n",
    "#plt.xlim(0,.1)    "
   ]
  },
  {
   "cell_type": "code",
   "execution_count": 63,
   "metadata": {},
   "outputs": [
    {
     "data": {
      "text/plain": [
       "4210"
      ]
     },
     "execution_count": 63,
     "metadata": {},
     "output_type": "execute_result"
    },
    {
     "data": {
      "image/png": "[encoded data removed]",
      "text/plain": [
       "<Figure size 432x288 with 1 Axes>"
      ]
     },
     "metadata": {
      "needs_background": "light"
     },
     "output_type": "display_data"
    }
   ],
   "source": [
    "vector_tensiones = np.asarray(saltos_tension)\n",
    "vector_tiempos = np.divide(0.1,6)*vector_tensiones\n",
    "vector_tiempos = vector_tiempos*1000 # Lo pasamos a milisegundos\n",
    "n, bins, patches = plt.hist(vector_tiempos,50)\n",
    "plt.xlabel('Tiempo (ms)')\n",
    "plt.ylabel('Cuentas (sobre 10000 trials)')\n",
    "plt.title('Histograma de tardanza entre mediciones sucesivas')\n",
    "len(vector_tensiones)"
   ]
  },
  {
   "cell_type": "code",
   "execution_count": 51,
   "metadata": {},
   "outputs": [
    {
     "data": {
      "text/plain": [
       "(0.08, 0.13)"
      ]
     },
     "execution_count": 51,
     "metadata": {},
     "output_type": "execute_result"
    },
    {
     "data": {
      "image/png": "[encoded data removed]",
      "text/plain": [
       "<Figure size 432x288 with 1 Axes>"
      ]
     },
     "metadata": {
      "needs_background": "light"
     },
     "output_type": "display_data"
    }
   ],
   "source": [
    "tiempos2_corrido = tiempos2 + tiempos[-1] + (tiempos[1] - tiempos[0])\n",
    "tiempos_largo = np.concatenate((tiempos,tiempos2_corrido))\n",
    "datos = np.concatenate((data,data2))\n",
    "plt.plot(tiempos_largo,datos,'.-')\n",
    "plt.xlim(0.08,0.13)"
   ]
  },
  {
   "cell_type": "code",
   "execution_count": 64,
   "metadata": {},
   "outputs": [],
   "source": [
    "np.savetxt('C:/Users/usuario/Documents/GitHub/Instrumentacion_y_control/Informe_2/Datos/Tiempo_muerto_1canal_4210muestras_3V_5Hz.txt',vector_tensiones)"
   ]
  },
  {
   "cell_type": "code",
   "execution_count": null,
   "metadata": {},
   "outputs": [],
   "source": []
  }
 ],
 "metadata": {
  "kernelspec": {
   "display_name": "Python 3",
   "language": "python",
   "name": "python3"
  },
  "language_info": {
   "codemirror_mode": {
    "name": "ipython",
    "version": 3
   },
   "file_extension": ".py",
   "mimetype": "text/x-python",
   "name": "python",
   "nbconvert_exporter": "python",
   "pygments_lexer": "ipython3",
   "version": "3.7.3"
  }
 },
 "nbformat": 4,
 "nbformat_minor": 2
}
