{
 "cells": [
  {
   "cell_type": "code",
   "execution_count": null,
   "metadata": {},
   "outputs": [],
   "source": [
    "import nidaqmx \n",
    "import numpy as np\n",
    "import matplotlib.pyplot as plt\n",
    "import visa\n",
    "import time\n",
    "from lantz import MessageBasedDriver, Q_\n",
    "from lantz.core import Feat\n",
    "from lantz.core import mfeats\n",
    "from lantz import ureg"
   ]
  },
  {
   "cell_type": "code",
   "execution_count": null,
   "metadata": {},
   "outputs": [],
   "source": [
    "def adquisicion(task,time,freq):\n",
    "    dt = np.divide(1,freq)\n",
    "   # print(dt)\n",
    "    time_vector = np.arange(0,time,dt)\n",
    "   # print(len(time_vector))\n",
    "    num_of_points = len(time_vector)  \n",
    "    data = task.read(number_of_samples_per_channel=num_of_points)\n",
    "   # print(len(data))\n",
    "    return (time_vector,np.asarray(data))"
   ]
  },
  {
   "cell_type": "code",
   "execution_count": null,
   "metadata": {},
   "outputs": [],
   "source": [
    "class Generador(MessageBasedDriver):\n",
    "\n",
    "    set_query = MessageBasedDriver.write\n",
    "\n",
    "    @Feat()\n",
    "    def idn(self):\n",
    "        return self.query('*IDN?')\n",
    "    \n",
    "    frequency = mfeats.QuantityFeat('SOURce1:FREQuency:FIXed?','SOURce1:FREQuency:FIXed {}',units='Hz',limits=(0.0,1000000))\n",
    "    amplitude = mfeats.QuantityFeat('SOURce1:VOLT:LEV:IMM:AMPL?','SOURce1:VOLT:LEV:IMM:AMPL {}',units='V',limits=(0.05,5))\n",
    "        \n",
    "    def setWaveform(self,waveform ='Senoidal'):\n",
    "        switcher = {'Senoidal':\"SIN\",'Cuadrada':\"SQU\",'Pulso':\"PULS\"}\n",
    "        self.write(\"SOURce1:FUNCtion \"+switcher.get(waveform,'Senoidal'))  "
   ]
  },
  {
   "cell_type": "code",
   "execution_count": null,
   "metadata": {},
   "outputs": [],
   "source": [
    "def sweepe(gener,init_freq = 100, end_freq = 10100, cant_med = 100):\n",
    "    with gener as generador:\n",
    "        paso = np.floor(np.divide(end_freq - init_freq,cant_med))\n",
    "        values = np.zeros(cant_med)\n",
    "        freqs = np.add(np.multiply(np.arange(cant_med), paso), init_freq)\n",
    "        for i,freq in enumerate(freqs):\n",
    "            periodo = np.divide(1,freq)\n",
    "        # Escribir Generador\n",
    "            generador.frequency= freq*ureg.hertz\n",
    "            print(freq)\n",
    "        # Esperamos a que se setee y lea bien\n",
    "            time.sleep(1)\n",
    "\n",
    "            time_med = .5\n",
    "            samplefreq = 5000\n",
    "            nsamples = 5000\n",
    "            with nidaqmx.Task() as task:\n",
    "                task.ai_channels.add_ai_voltage_chan('Dev1/ai0',\n",
    "                                                     terminal_config=nidaqmx.constants.TerminalConfiguration.DIFFERENTIAL)\n",
    "                task.timing.cfg_samp_clk_timing(samplefreq,samps_per_chan=nsamples)\n",
    "                (tiempos,data) = adquisicion(task,time_med,samplefreq)\n",
    "\n",
    "            espectro = plt.magnitude_spectrum(data, Fs=samplefreq, window=np.ones(data.shape))\n",
    "            max_index = espectro[0].argmax()\n",
    "            max_freq = espectro[1][max_index]\n",
    "            \n",
    "            values[i] = max_freq\n",
    "    return freqs, values"
   ]
  },
  {
   "cell_type": "markdown",
   "metadata": {},
   "source": []
  }
 ],
 "metadata": {
  "kernelspec": {
   "display_name": "Python 3",
   "language": "python",
   "name": "python3"
  },
  "language_info": {
   "codemirror_mode": {
    "name": "ipython",
    "version": 3
   },
   "file_extension": ".py",
   "mimetype": "text/x-python",
   "name": "python",
   "nbconvert_exporter": "python",
   "pygments_lexer": "ipython3",
   "version": "3.7.3"
  }
 },
 "nbformat": 4,
 "nbformat_minor": 2
}
